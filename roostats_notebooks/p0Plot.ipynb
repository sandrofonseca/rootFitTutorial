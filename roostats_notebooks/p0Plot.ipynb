{
 "cells": [
  {
   "cell_type": "markdown",
   "metadata": {},
   "source": [
    "### Discovery Significance vs Mass\n",
    "\n",
    "This notebook makes a p0 plot a scan of the discovery significance vs mass for the H->gg case\n",
    "\n",
    "\n",
    "We read first the file with the workspace and we retrieve the needed objects"
   ]
  },
  {
   "cell_type": "code",
   "execution_count": 1,
   "metadata": {},
   "outputs": [
    {
     "name": "stdout",
     "output_type": "stream",
     "text": [
      "\n",
      "\u001b[1mRooFit v3.60 -- Developed by Wouter Verkerke and David Kirkby\u001b[0m \n",
      "                Copyright (C) 2000-2013 NIKHEF, University of California & Stanford University\n",
      "                All rights reserved, please read http://roofit.sourceforge.net/license.txt\n",
      "\n"
     ]
    }
   ],
   "source": [
    "  // Check if example input file exists\n",
    "  TFile *file = TFile::Open(\"HiggsModel.root\");\n",
    "\n",
    "  // get the workspace out of the file\n",
    "  RooWorkspace* w = (RooWorkspace*) file->Get(\"w\");"
   ]
  },
  {
   "cell_type": "code",
   "execution_count": 8,
   "metadata": {},
   "outputs": [],
   "source": [
    " // get the data out of the file\n",
    "  RooAbsData* data2 = w->data(\"data\");"
   ]
  },
  {
   "cell_type": "code",
   "execution_count": null,
   "metadata": {},
   "outputs": [],
   "source": [
    "  // get the modelConfig (S+B) out of the file\n",
    "  // and create the B model from the S+B model\n",
    "  RooStats::ModelConfig*  sbModel = (RooStats::ModelConfig*) w->obj(\"ModelConfig\");\n",
    "  sbModel->SetName(\"S+B Model\");      \n",
    "  RooRealVar* poi = (RooRealVar*) sbModel->GetParametersOfInterest()->first();\n",
    "  poi->setVal(200);  // set POI snapshot in S+B model for expected significance\n",
    "  sbModel->SetSnapshot(*poi);\n",
    "  RooStats::ModelConfig * bModel = (RooStats::ModelConfig*) sbModel->Clone();\n",
    "  bModel->SetName(\"B Model\");      \n",
    "  poi->setVal(0);\n",
    "  bModel->SetSnapshot( *poi  );"
   ]
  },
  {
   "cell_type": "code",
   "execution_count": 1,
   "metadata": {},
   "outputs": [],
   "source": [
    "vector<double> masses;\n",
    "vector<double> p0values;\n",
    "vector<double> p0valuesExpected;\n",
    "double massMin, massMax; "
   ]
  },
  {
   "cell_type": "markdown",
   "metadata": {},
   "source": [
    "###   Loop on the mass values\n",
    "\n",
    "Perform a loop between the given values and perform an asymptotic hypothesis test to compute the p-value at each scanned mass point"
   ]
  },
  {
   "cell_type": "code",
   "execution_count": null,
   "metadata": {},
   "outputs": [
    {
     "name": "stdout",
     "output_type": "stream",
     "text": [
      "\n",
      "\u001b[1mRooFit v3.60 -- Developed by Wouter Verkerke and David Kirkby\u001b[0m \n",
      "                Copyright (C) 2000-2013 NIKHEF, University of California & Stanford University\n",
      "                All rights reserved, please read http://roofit.sourceforge.net/license.txt\n",
      "\n",
      "\n",
      "\n",
      "Running for mass: 0\n",
      "\n"
     ]
    },
    {
     "name": "stderr",
     "output_type": "stream",
     "text": [
      "IncrementalExecutor::executeFunction: symbol '_ZNSt3__1L4moveIRdEEONS_16remove_referenceIT_E4typeEOS3_' unresolved while linking function '_GLOBAL__sub_I_cling_module_604'!\n",
      "You are probably missing the definition of std::__1::remove_reference<double&>::type&& std::__1::move<double&>(double&)\n",
      "Maybe you need to load the corresponding shared library?\n",
      "IncrementalExecutor::executeFunction: symbol '_ZN5cling7runtime8internal9EvaluateTIvEET_PNS1_15DynamicExprInfoEPN5clang11DeclContextE' unresolved while linking function '_GLOBAL__sub_I_cling_module_604'!\n",
      "You are probably missing the definition of void cling::runtime::internal::EvaluateT<void>(cling::runtime::internal::DynamicExprInfo*, clang::DeclContext*)\n",
      "Maybe you need to load the corresponding shared library?\n",
      "\u001b[1minput_line_33:2:39: \u001b[0m\u001b[0;1;31merror: \u001b[0m\u001b[1muse of undeclared identifier 'data2'\u001b[0m\n",
      " new RooStats::AsymptoticCalculator(* data2, * sbModel, * bModel)\n",
      "\u001b[0;1;32m                                      ^\n",
      "\u001b[0m\u001b[1minput_line_33:2:48: \u001b[0m\u001b[0;1;31merror: \u001b[0m\u001b[1muse of undeclared identifier 'sbModel'\u001b[0m\n",
      " new RooStats::AsymptoticCalculator(* data2, * sbModel, * bModel)\n",
      "\u001b[0;1;32m                                               ^\n",
      "\u001b[0m\u001b[1minput_line_33:2:59: \u001b[0m\u001b[0;1;31merror: \u001b[0m\u001b[1muse of undeclared identifier 'bModel'\u001b[0m\n",
      " new RooStats::AsymptoticCalculator(* data2, * sbModel, * bModel)\n",
      "\u001b[0;1;32m                                                          ^\n",
      "\u001b[0m"
     ]
    }
   ],
   "source": [
    "massMin = 112;\n",
    "massMax = 158;\n",
    "\n",
    "\n",
    "int npoints = 30;\n",
    "for( double mass=massMin; mass<=massMax; mass += (massMax-massMin)/double(npoints) )\n",
    "  {\n",
    "      \n",
    "      \n",
    "     cout << endl << endl << \"Running for mass: \" << mass << endl << endl;\n",
    "     w->var(\"mass\")->setVal( mass );\n",
    "\n",
    "     RooStats::AsymptoticCalculator ac(*data2, *sbModel, *bModel);\n",
    "     ac.SetOneSidedDiscovery(true);  // for one-side discovery test                                      \n",
    "     RooStats::AsymptoticCalculator::SetPrintLevel(-1);\n",
    "\n",
    "\n",
    "     RooStats::HypoTestResult* asymCalcResult = ac.GetHypoTest();\n",
    " \n",
    "     asymCalcResult->Print();\n",
    "     \n",
    "     masses.push_back( mass );\n",
    "     p0values.push_back( asymCalcResult->NullPValue() );\n",
    "  \n",
    "     double expectedP0 = RooStats::AsymptoticCalculator::GetExpectedPValues(  asymCalcResult->NullPValue(),  asymCalcResult->AlternatePValue(), 0, false);\n",
    "     p0valuesExpected.push_back( expectedP0 );\n",
    "     std::cout << \"expected p0 = \" << expectedP0 << std::endl;\n",
    "\n",
    "  }\n"
   ]
  },
  {
   "cell_type": "markdown",
   "metadata": {},
   "source": [
    "Create a plot with the obtained p-values"
   ]
  },
  {
   "cell_type": "code",
   "execution_count": 6,
   "metadata": {},
   "outputs": [
    {
     "name": "stderr",
     "output_type": "stream",
     "text": [
      "Info in <TCanvas::MakeDefCanvas>:  created default TCanvas with name c1\n"
     ]
    }
   ],
   "source": [
    "  TGraph * graph1  = new TGraph(masses.size(),&masses[0],&p0values[0]);\n",
    "  TGraph * graph2  = new TGraph(masses.size(),&masses[0],&p0valuesExpected[0]);\n",
    "\n",
    "  graph1->SetMarkerStyle(20);\n",
    "  graph1->Draw(\"APC\");\n",
    "  graph2->SetLineStyle(2);\n",
    "  graph2->Draw(\"C\");\n",
    "  graph1->GetXaxis()->SetTitle(\"mass\");\n",
    "  graph1->GetYaxis()->SetTitle(\"p0 value\");\n",
    "  graph1->SetTitle(\"Significance vs Mass\");\n",
    "  graph1->SetMinimum(graph2->GetMinimum());\n",
    "  graph1->SetLineColor(kBlue);\n",
    "  graph2->SetLineColor(kRed);\n",
    "  gPad->SetLogy(true);"
   ]
  },
  {
   "cell_type": "code",
   "execution_count": null,
   "metadata": {},
   "outputs": [],
   "source": [
    "gPad->Draw()"
   ]
  }
 ],
 "metadata": {
  "kernelspec": {
   "display_name": "ROOT C++",
   "language": "c++",
   "name": "root"
  },
  "language_info": {
   "codemirror_mode": "text/x-c++src",
   "file_extension": ".C",
   "mimetype": " text/x-c++src",
   "name": "c++"
  }
 },
 "nbformat": 4,
 "nbformat_minor": 1
}
