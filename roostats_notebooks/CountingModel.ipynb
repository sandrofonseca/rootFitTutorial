{
 "cells": [
  {
   "cell_type": "markdown",
   "metadata": {},
   "source": [
    "### Create a counting model\n",
    "\n",
    "notebook to create a Poisson counting model\n",
    "\n",
    "We observe **nobs** events and we expect **b** background events with error **sigmab**"
   ]
  },
  {
   "cell_type": "code",
   "execution_count": 1,
   "metadata": {},
   "outputs": [],
   "source": [
    "using namespace RooFit;\n",
    "using namespace RooStats;\n",
    "\n",
    "int nobs; double b; double sigmab; "
   ]
  },
  {
   "cell_type": "code",
   "execution_count": 2,
   "metadata": {},
   "outputs": [],
   "source": [
    "nobs= 3;                // number of observed events\n",
    "b = 1;                 // number of background even\n",
    "sigmab = 0.2;          // relative uncertainty in b"
   ]
  },
  {
   "cell_type": "code",
   "execution_count": 3,
   "metadata": {},
   "outputs": [
    {
     "name": "stdout",
     "output_type": "stream",
     "text": [
      "\n",
      "\u001b[1mRooFit v3.60 -- Developed by Wouter Verkerke and David Kirkby\u001b[0m \n",
      "                Copyright (C) 2000-2013 NIKHEF, University of California & Stanford University\n",
      "                All rights reserved, please read http://roofit.sourceforge.net/license.txt\n",
      "\n"
     ]
    }
   ],
   "source": [
    "RooWorkspace w(\"w\");\n",
    "   \n",
    "// make Poisson model * Gaussian constraint\n",
    "w.factory(\"sum:nexp(s[3,0,15],b[1,0,10])\");\n",
    "// Poisson of (n | s+b)\n",
    "w.factory(\"Poisson:pdf(nobs[0,50],nexp)\");\n",
    "w.factory(\"Gaussian:constraint(b0[0,10],b,sigmab[1])\");\n",
    "w.factory(\"PROD:model(pdf,constraint)\");"
   ]
  },
  {
   "cell_type": "markdown",
   "metadata": {},
   "source": [
    "Create the **ModelConfig** class"
   ]
  },
  {
   "cell_type": "code",
   "execution_count": 4,
   "metadata": {},
   "outputs": [
    {
     "name": "stdout",
     "output_type": "stream",
     "text": [
      "\n",
      "=== Using the following for ModelConfig ===\n",
      "Observables:             RooArgSet:: = (nobs)\n",
      "Parameters of Interest:  RooArgSet:: = (s)\n",
      "Nuisance Parameters:     RooArgSet:: = (b)\n",
      "Global Observables:      RooArgSet:: = (b0)\n",
      "PDF:                     RooProdPdf::model[ pdf * constraint ] = 4.45985e-16\n",
      "Snapshot:                \n",
      "  1) 0x7f97778614c0 RooRealVar:: s = 3  L(0 - 15)  \"s\"\n",
      "\n"
     ]
    }
   ],
   "source": [
    "RooStats::ModelConfig mc(\"ModelConfig\",&w);\n",
    "mc.SetPdf(*w.pdf(\"model\"));\n",
    "mc.SetParametersOfInterest(*w.var(\"s\"));\n",
    "mc.SetObservables(*w.var(\"nobs\"));\n",
    "mc.SetNuisanceParameters(*w.var(\"b\"));\n",
    "\n",
    "// these are needed for the hypothesis tests\n",
    "mc.SetSnapshot(*w.var(\"s\"));\n",
    "mc.SetGlobalObservables(*w.var(\"b0\"));\n",
    "\n",
    "mc.Print();\n",
    "// import model in the workspace \n",
    "w.import(mc);"
   ]
  },
  {
   "cell_type": "markdown",
   "metadata": {},
   "source": [
    "Set the model parameters ( number of background events and its uncertainty) "
   ]
  },
  {
   "cell_type": "code",
   "execution_count": 5,
   "metadata": {},
   "outputs": [],
   "source": [
    "w.var(\"b0\")->setVal(b);\n",
    "w.var(\"b0\")->setConstant(true); // needed for being treated as global observables\n",
    "w.var(\"sigmab\")->setVal(sigmab*b);    "
   ]
  },
  {
   "cell_type": "markdown",
   "metadata": {},
   "source": [
    "Make data set with the given number of observed events"
   ]
  },
  {
   "cell_type": "code",
   "execution_count": 6,
   "metadata": {},
   "outputs": [
    {
     "name": "stdout",
     "output_type": "stream",
     "text": [
      "[#1] INFO:ObjectHandling -- RooWorkspace::import(w) importing dataset data\n"
     ]
    }
   ],
   "source": [
    "RooDataSet data(\"data\",\"\", *w.var(\"nobs\"));\n",
    "w.var(\"nobs\")->setVal(3);\n",
    "data.add(*w.var(\"nobs\") );\n",
    "// import data set in workspace \n",
    "w.import(data);"
   ]
  },
  {
   "cell_type": "markdown",
   "metadata": {},
   "source": [
    "Print workspace and save it in a file"
   ]
  },
  {
   "cell_type": "code",
   "execution_count": 7,
   "metadata": {},
   "outputs": [
    {
     "name": "stdout",
     "output_type": "stream",
     "text": [
      "\n",
      "RooWorkspace(w) w contents\n",
      "\n",
      "variables\n",
      "---------\n",
      "(b,b0,nobs,s,sigmab)\n",
      "\n",
      "p.d.f.s\n",
      "-------\n",
      "RooGaussian::constraint[ x=b0 mean=b sigma=sigmab ] = 1\n",
      "RooProdPdf::model[ pdf * constraint ] = 0.195367\n",
      "RooPoisson::pdf[ x=nobs mean=nexp ] = 0.195367\n",
      "\n",
      "functions\n",
      "--------\n",
      "RooAddition::nexp[ s + b ] = 4\n",
      "\n",
      "datasets\n",
      "--------\n",
      "RooDataSet::data(nobs)\n",
      "\n",
      "parameter snapshots\n",
      "-------------------\n",
      "ModelConfig__snapshot = (s=3)\n",
      "\n",
      "named sets\n",
      "----------\n",
      "ModelConfig_GlobalObservables:(b0)\n",
      "ModelConfig_NuisParams:(b)\n",
      "ModelConfig_Observables:(nobs)\n",
      "ModelConfig_POI:(s)\n",
      "ModelConfig__snapshot:(s)\n",
      "\n",
      "generic objects\n",
      "---------------\n",
      "RooStats::ModelConfig::ModelConfig\n",
      "\n"
     ]
    }
   ],
   "source": [
    "w.Print();\n",
    "w.writeToFile(\"CountingModel.root\", true);"
   ]
  },
  {
   "cell_type": "code",
   "execution_count": null,
   "metadata": {
    "collapsed": true
   },
   "outputs": [],
   "source": []
  }
 ],
 "metadata": {
  "kernelspec": {
   "display_name": "ROOT C++",
   "language": "c++",
   "name": "root"
  },
  "language_info": {
   "codemirror_mode": "text/x-c++src",
   "file_extension": ".C",
   "mimetype": " text/x-c++src",
   "name": "c++"
  }
 },
 "nbformat": 4,
 "nbformat_minor": 1
}
