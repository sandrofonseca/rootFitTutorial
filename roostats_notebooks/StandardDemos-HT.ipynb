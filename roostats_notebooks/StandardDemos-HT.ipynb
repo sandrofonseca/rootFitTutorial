{
 "cells": [
  {
   "cell_type": "markdown",
   "metadata": {},
   "source": [
    "# RooStats Standard  Macros \n",
    "\n",
    "This notebook shows how to run the Standard RooStats macro\n",
    "\n",
    "Tutorials we can use  (available in tutorials/roostats directory) are:\n",
    "* StandardProfileLikelihoodDemo.C\n",
    "* StandardBayesianNumericalDemo.C\n",
    "* StandardBayesianMCMCDemo.C\n",
    "* StandardHypoTestDemo.C\n",
    "* StandardHypoTestInvDemo.C\n",
    "\n",
    "### Running the Hypothesis test"
   ]
  },
  {
   "cell_type": "code",
   "execution_count": 1,
   "metadata": {
    "collapsed": false
   },
   "outputs": [
    {
     "name": "stdout",
     "output_type": "stream",
     "text": [
      "\n",
      "\u001b[1mRooFit v3.60 -- Developed by Wouter Verkerke and David Kirkby\u001b[0m \n",
      "                Copyright (C) 2000-2013 NIKHEF, University of California & Stanford University\n",
      "                All rights reserved, please read http://roofit.sourceforge.net/license.txt\n",
      "\n"
     ]
    }
   ],
   "source": [
    "#include \"StandardHypoTestDemo.C\""
   ]
  },
  {
   "cell_type": "markdown",
   "metadata": {},
   "source": [
    "#### Common Parameter passed to the macro \n",
    "\n",
    "\n",
    "**StandardHypothesisTestDemo** ( `filename, workspace, model config S+B,model config  (B) data` )\n",
    "\n",
    "you can also change some other parameters \n"
   ]
  },
  {
   "cell_type": "markdown",
   "metadata": {},
   "source": [
    "Make some customization of the running of the macro.\n",
    "Here are some useful options to give to the macro\n",
    "\n"
   ]
  },
  {
   "cell_type": "code",
   "execution_count": 2,
   "metadata": {
    "collapsed": false
   },
   "outputs": [],
   "source": [
    "printLevel = 1;\n",
    "minimizerType = \"Minuit2\";"
   ]
  },
  {
   "cell_type": "markdown",
   "metadata": {},
   "source": [
    "#### Parameter passed to the macro \n",
    "\n",
    "\n",
    "**StandardHypoTestInvDemo**`(filename, workspace, model for null, [model for alternate], data`\n",
    "`calculator type, test statistic type,[number of toys] )`\n",
    "\n",
    "\n",
    "Calculator Type: \n",
    "* 0 FrequentistCalculator (uses toys)\n",
    "* 1 HybridCalculator (uses toys)\n",
    "* 2 AsymptoticCalculator\n",
    "\n",
    "Test Statistic Type\n",
    "\n",
    "* 0 Ratio of Likelihood (LEP TS)\n",
    "* 1 Ratio of Profile Likelihoods (Tevatron TS)\n",
    "* 2 Profile Likelihood Ratio (LHC) - 2 sided \n",
    "* 3 Profile Likelihood Ratio (LHC) - One-sided \n",
    "\n"
   ]
  },
  {
   "cell_type": "code",
   "execution_count": 2,
   "metadata": {
    "collapsed": false
   },
   "outputs": [
    {
     "ename": "SystemError",
     "evalue": "long TROOT::ProcessLine(const char* line, int* error = 0) =>\n    problem in C++; program state has been reset",
     "output_type": "error",
     "traceback": [
      "Traceback (most recent call last):\n",
      "  File \"/usr/local/lib/python2.7/dist-packages/ipykernel/ipkernel.py\", line 175, in do_execute\n    shell.run_cell(code, store_history=store_history, silent=silent)\n",
      "  File \"/usr/local/lib/python2.7/dist-packages/IPython/core/interactiveshell.py\", line 2832, in run_cell\n    cell = self.input_transformer_manager.transform_cell(raw_cell)\n",
      "  File \"/usr/local/lib/python2.7/dist-packages/IPython/core/inputsplitter.py\", line 595, in transform_cell\n    self.reset()\n",
      "  File \"/usr/local/lib/python2.7/dist-packages/IPython/core/inputsplitter.py\", line 535, in reset\n    t.reset()\n",
      "  File \"/opt/root/compile/lib/ROOTaaS/iPyROOT/cpptransformer.py\", line 91, in reset\n    utils.processCppCode(self.cell)\n",
      "  File \"/opt/root/compile/lib/ROOTaaS/iPyROOT/utils.py\", line 157, in processCppCode\n    processCppCodeImpl(code)\n",
      "  File \"/opt/root/compile/lib/ROOTaaS/iPyROOT/utils.py\", line 150, in processCppCodeImpl\n    ROOT.gROOT.ProcessLine(code)\n",
      "SystemError: long TROOT::ProcessLine(const char* line, int* error = 0) =>\n    problem in C++; program state has been reset\n"
     ]
    }
   ],
   "source": [
    "StandardHypoTestDemo(\"HiggsModel.root\",\"w\",\"ModelConfig\",\" \",\"data\",2,3);\n",
    "gPad->Draw();"
   ]
  },
  {
   "cell_type": "code",
   "execution_count": null,
   "metadata": {
    "collapsed": false,
    "scrolled": false
   },
   "outputs": [],
   "source": []
  }
 ],
 "metadata": {
  "kernelspec": {
   "display_name": "ROOT Prompt",
   "language": "c++",
   "name": "root"
  },
  "language_info": {
   "codemirror_mode": {
    "name": "ipython",
    "version": 2
   },
   "file_extension": ".py",
   "mimetype": "text/x-python",
   "name": "python",
   "nbconvert_exporter": "python",
   "pygments_lexer": "ipython2",
   "version": "2.7.9"
  }
 },
 "nbformat": 4,
 "nbformat_minor": 0
}
