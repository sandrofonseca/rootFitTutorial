{
 "cells": [
  {
   "cell_type": "markdown",
   "metadata": {},
   "source": [
    "# RooStats Standard  Macros \n",
    "\n",
    "This notebook shows how to run the Standard RooStats macro\n",
    "\n",
    "Tutorials we can use  (available in tutorials/roostats directory) are:\n",
    "* StandardProfileLikelihoodDemo.C\n",
    "* StandardBayesianNumericalDemo.C\n",
    "* StandardBayesianMCMCDemo.C\n",
    "* StandardHypoTestDemo.C\n",
    "* StandardHypoTestInvDemo.C"
   ]
  },
  {
   "cell_type": "code",
   "execution_count": 3,
   "metadata": {},
   "outputs": [
    {
     "name": "stdout",
     "output_type": "stream",
     "text": [
      "\n",
      "\u001b[1mRooFit v3.60 -- Developed by Wouter Verkerke and David Kirkby\u001b[0m \n",
      "                Copyright (C) 2000-2013 NIKHEF, University of California & Stanford University\n",
      "                All rights reserved, please read http://roofit.sourceforge.net/license.txt\n",
      "\n"
     ]
    }
   ],
   "source": [
    "#include \"StandardProfileLikelihoodDemo.C\"\n",
    "//#include \"StandardBayesianMCMCDemo.C\"\n"
   ]
  },
  {
   "cell_type": "markdown",
   "metadata": {},
   "source": [
    "#### Common Parameter passed to the macro \n",
    "\n",
    "\n",
    "**StandardProfileLikelihoodDemo** ( `filename, workspace, model config, data` )\n",
    "\n",
    "you can also change some other parameters like the confidenceLevel or the number of points to scan \n"
   ]
  },
  {
   "cell_type": "code",
   "execution_count": 4,
   "metadata": {},
   "outputs": [],
   "source": [
    "confLevel = 0.683; \n",
    "nScanPoints = 20; "
   ]
  },
  {
   "cell_type": "code",
   "execution_count": 5,
   "metadata": {},
   "outputs": [
    {
     "name": "stdout",
     "output_type": "stream",
     "text": [
      "\n",
      "RooWorkspace(w) w contents\n",
      "\n",
      "variables\n",
      "---------\n",
      "(a1,a2,mass,nbackground,nsignal,width,x)\n",
      "\n",
      "p.d.f.s\n",
      "-------\n",
      "RooExponential::bmodel[ c=1 ] = 0.000616625\n",
      "RooAddPdf::model[ nbackground * bmodel + nsignal * smodel ] = 0.000610556\n",
      "RooGaussian::smodel[ mean=mass sigma=width ] = 3.72665e-06\n",
      "\n",
      "functions\n",
      "--------\n",
      "RooFormulaVar::z[ formula=\"-(x[0]*x[2]/100+x[1]*(x[2]/100)^2)\" ] = -7.39125\n",
      "\n",
      "named sets\n",
      "----------\n",
      "ModelConfig_NuisParams:(a1,a2,nbackground)\n",
      "ModelConfig_Observables:(x)\n",
      "ModelConfig_POI:(nsignal)\n",
      "nuisParams:(a1,a2,nbackground)\n",
      "\n",
      "generic objects\n",
      "---------------\n",
      "RooStats::ModelConfig::ModelConfig\n",
      "\n",
      "data or ModelConfig was not found\n",
      "[/usr/local/Cellar/root/6.20.04_1/lib/root/libCling.so] cling_runtime_internal_throwIfInvalidPointer (no debug info)\n",
      "[<unknown binary>] (no debug info)\n",
      "[/usr/local/Cellar/root/6.20.04_1/lib/root/libCling.so] cling::IncrementalExecutor::executeWrapper(llvm::StringRef, cling::Value*) const (no debug info)\n",
      "[/usr/local/Cellar/root/6.20.04_1/lib/root/libCling.so] cling::Interpreter::RunFunction(clang::FunctionDecl const*, cling::Value*) (no debug info)\n",
      "[/usr/local/Cellar/root/6.20.04_1/lib/root/libCling.so] cling::Interpreter::EvaluateInternal(std::__1::basic_string<char, std::__1::char_traits<char>, std::__1::allocator<char> > const&, cling::CompilationOptions, cling::Value*, cling::Transaction**, unsigned long) (no debug info)\n",
      "[/usr/local/Cellar/root/6.20.04_1/lib/root/libCling.so] cling::Interpreter::process(std::__1::basic_string<char, std::__1::char_traits<char>, std::__1::allocator<char> > const&, cling::Value*, cling::Transaction**, bool) (no debug info)\n",
      "[/usr/local/Cellar/root/6.20.04_1/lib/root/libCling.so] cling::MetaProcessor::process(llvm::StringRef, cling::Interpreter::CompilationResult&, cling::Value*, bool) (no debug info)\n",
      "[/usr/local/Cellar/root/6.20.04_1/lib/root/libCling.so] HandleInterpreterException(cling::MetaProcessor*, char const*, cling::Interpreter::CompilationResult&, cling::Value*) (no debug info)\n",
      "[/usr/local/Cellar/root/6.20.04_1/lib/root/libCling.so] TCling::ProcessLine(char const*, TInterpreter::EErrorCode*) (no debug info)\n",
      "[/usr/local/Cellar/root/6.20.04_1/lib/root/libJupyROOT.so] JupyROOTExecutorImpl(char const*) (no debug info)\n",
      "[/usr/local/Cellar/root/6.20.04_1/lib/root/libJupyROOT.so] JupyROOTExecutor (no debug info)\n",
      "[/usr/local/Cellar/python@3.8/3.8.2/Frameworks/Python.framework/Versions/3.8/lib/python3.8/lib-dynload/_ctypes.cpython-38-darwin.so] ffi_call_unix64 (no debug info)\n",
      "[<unknown binary>] (no debug info)\n"
     ]
    },
    {
     "name": "stderr",
     "output_type": "stream",
     "text": [
      "Error in <HandleInterpreterException>: Trying to dereference null pointer or trying to call routine taking non-null arguments.\n",
      "Execution of your code was aborted.\n",
      "\u001b[1minput_line_34:3:1: \u001b[0m\u001b[0;1;35mwarning: \u001b[0m\u001b[1mnull passed to a callee that requires a non-null argument [-Wnonnull]\u001b[0m\n",
      "gPad->Draw();\n",
      "\u001b[0;1;32m^~~~\n",
      "\u001b[0m\u001b[1m/private/tmp/root-20200412-2490-1le88bk/root-6.20.04/builddir/include/TVirtualPad.h:286:14: \u001b[0m\u001b[0;1;30mnote: \u001b[0mexpanded from macro 'gPad'\u001b[0m\n",
      "#define gPad (TVirtualPad::Pad())\n",
      "\u001b[0;1;32m             ^~~~~~~~~~~~~~~~~~~~\n",
      "\u001b[0m"
     ]
    }
   ],
   "source": [
    "StandardProfileLikelihoodDemo(\"HiggsModel.root\",\"w\",\"ModelConfig\",\"data\");\n",
    "gPad->Draw();"
   ]
  },
  {
   "cell_type": "code",
   "execution_count": null,
   "metadata": {
    "scrolled": false
   },
   "outputs": [],
   "source": []
  }
 ],
 "metadata": {
  "kernelspec": {
   "display_name": "ROOT C++",
   "language": "c++",
   "name": "root"
  },
  "language_info": {
   "codemirror_mode": "text/x-c++src",
   "file_extension": ".C",
   "mimetype": " text/x-c++src",
   "name": "c++"
  }
 },
 "nbformat": 4,
 "nbformat_minor": 1
}
