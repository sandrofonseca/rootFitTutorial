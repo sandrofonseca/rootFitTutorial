{
 "cells": [
  {
   "cell_type": "markdown",
   "metadata": {},
   "source": [
    "# RooStats Standard  Macros \n",
    "\n",
    "This notebook shows how to run the Standard RooStats macro\n",
    "\n",
    "Tutorials we can use  (available in tutorials/roostats directory) are:\n",
    "* StandardProfileLikelihoodDemo.C\n",
    "* StandardBayesianNumericalDemo.C\n",
    "* StandardBayesianMCMCDemo.C\n",
    "* StandardHypoTestDemo.C\n",
    "* StandardHypoTestInvDemo.C\n",
    "\n",
    "### Running the Hypothesis test inversion"
   ]
  },
  {
   "cell_type": "code",
   "execution_count": 1,
   "metadata": {
    "collapsed": false
   },
   "outputs": [
    {
     "name": "stdout",
     "output_type": "stream",
     "text": [
      "\n",
      "\u001b[1mRooFit v3.60 -- Developed by Wouter Verkerke and David Kirkby\u001b[0m \n",
      "                Copyright (C) 2000-2013 NIKHEF, University of California & Stanford University\n",
      "                All rights reserved, please read http://roofit.sourceforge.net/license.txt\n",
      "\n"
     ]
    }
   ],
   "source": [
    "#include \"StandardHypoTestInvDemo.C\""
   ]
  },
  {
   "cell_type": "markdown",
   "metadata": {},
   "source": [
    "#### Common Parameter passed to the macro \n",
    "\n",
    "**StandardHypoTestInvDemo**`(filename, workspace, model for null, [model for alternate], data`\n",
    "`calculator type, test statistic type, use CLs,` \n",
    "`number of points to scan , min value, max value, [number of toys] )`\n",
    "\n",
    "\n",
    "Calculator Type: \n",
    "* 0 FrequentistCalculator (uses toys)\n",
    "* 1 HybridCalculator (uses toys)\n",
    "* 2 AsymptoticCalculator\n",
    "\n",
    "Test Statistic Type\n",
    "\n",
    "* 0 Ratio of Likelihood (LEP TS)\n",
    "* 1 Ratio of Profile Likelihoods (Tevatron TS)\n",
    "* 2 Profile Likelihood Ratio (LHC) - 2 sided (for intervals) \n",
    "* 3 Profile Likelihood Ratio (LHC) - One-sided (for limits)\n",
    "\n"
   ]
  },
  {
   "cell_type": "markdown",
   "metadata": {},
   "source": [
    "Make some customization of the running of the macro.\n",
    "Here are some useful options to give to the macro\n",
    "\n"
   ]
  },
  {
   "cell_type": "code",
   "execution_count": 2,
   "metadata": {
    "collapsed": false
   },
   "outputs": [],
   "source": [
    "confidenceLevel = 0.68; \n",
    "//noSystematics = true; switch off all systematics  - they are considered constants\n",
    "printLevel = 0;\n",
    "minimizerType = \"Minuit2\";\n",
    "useNLLOffset = true; "
   ]
  },
  {
   "cell_type": "code",
   "execution_count": null,
   "metadata": {
    "collapsed": false
   },
   "outputs": [],
   "source": [
    "StandardHypoTestInvDemo(\"CountingModel.root\",\"w\",\"ModelConfig\",\"\",\"data\",0,3,true,4,0,800,200);\n",
    "gPad->Draw();"
   ]
  },
  {
   "cell_type": "code",
   "execution_count": null,
   "metadata": {
    "collapsed": false,
    "scrolled": false
   },
   "outputs": [],
   "source": []
  }
 ],
 "metadata": {
  "kernelspec": {
   "display_name": "ROOT Prompt",
   "language": "c++",
   "name": "root"
  },
  "language_info": {
   "codemirror_mode": {
    "name": "ipython",
    "version": 2
   },
   "file_extension": ".py",
   "mimetype": "text/x-python",
   "name": "python",
   "nbconvert_exporter": "python",
   "pygments_lexer": "ipython2",
   "version": "2.7.9"
  }
 },
 "nbformat": 4,
 "nbformat_minor": 0
}
