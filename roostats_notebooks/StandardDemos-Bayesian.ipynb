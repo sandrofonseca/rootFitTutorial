{
 "cells": [
  {
   "cell_type": "markdown",
   "metadata": {},
   "source": [
    "# RooStats Standard  Macros \n",
    "\n",
    "This notebook shows how to run the Standard RooStats macro\n",
    "\n",
    "Tutorials we can use  (available in tutorials/roostats directory) are:\n",
    "* StandardProfileLikelihoodDemo.C\n",
    "* StandardBayesianNumericalDemo.C\n",
    "* StandardBayesianMCMCDemo.C\n",
    "* StandardHypoTestDemo.C\n",
    "* StandardHypoTestInvDemo.C\n",
    "\n",
    "#### Running the BayesianMCMC Calculator"
   ]
  },
  {
   "cell_type": "code",
   "execution_count": null,
   "metadata": {},
   "outputs": [],
   "source": [
    "#include \"StandardBayesianMCMCDemo.C\"\n",
    "//#include \"StandardBayesianNumericalDemo.C\""
   ]
  },
  {
   "cell_type": "markdown",
   "metadata": {},
   "source": [
    "#### Common Parameter passed to the macro \n",
    "\n",
    "\n",
    "**StandardBayesianMCMCDemo** ( `filename, workspace, model config, data` )\n",
    "\n",
    "you can also change some other parameters like the confidenceLevel or the number of points to scan \n"
   ]
  },
  {
   "cell_type": "code",
   "execution_count": null,
   "metadata": {},
   "outputs": [],
   "source": [
    "confLevel = 0.683; \n",
    "numIterations = 1000000; // MCMC iterations (has to be larger than 1000)\n",
    "intervalType = 1;   // central interval "
   ]
  },
  {
   "cell_type": "code",
   "execution_count": null,
   "metadata": {},
   "outputs": [],
   "source": [
    "StandardBayesianMCMCDemo(\"CountingModel.root\",\"w\",\"ModelConfig\",\"data\");\n",
    "IntervalPlot->Draw();  // look at the name of the interval canvas in the macro "
   ]
  },
  {
   "cell_type": "code",
   "execution_count": null,
   "metadata": {},
   "outputs": [],
   "source": [
    "//StandardBayesianNumericalDemo(\"CountingModel.root\",\"w\",\"ModelConfig\",\"data\");\n",
    "gPad->Draw();"
   ]
  },
  {
   "cell_type": "code",
   "execution_count": null,
   "metadata": {
    "collapsed": true
   },
   "outputs": [],
   "source": []
  }
 ],
 "metadata": {
  "kernelspec": {
   "display_name": "ROOT C++",
   "language": "c++",
   "name": "root"
  },
  "language_info": {
   "codemirror_mode": "text/x-c++src",
   "file_extension": ".C",
   "mimetype": " text/x-c++src",
   "name": "c++"
  }
 },
 "nbformat": 4,
 "nbformat_minor": 1
}
