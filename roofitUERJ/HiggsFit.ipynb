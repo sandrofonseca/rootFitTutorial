{
 "cells": [
  {
   "cell_type": "markdown",
   "metadata": {},
   "source": [
    "Higgs Fit"
   ]
  },
  {
   "cell_type": "code",
   "execution_count": 1,
   "metadata": {},
   "outputs": [
    {
     "name": "stdout",
     "output_type": "stream",
     "text": [
      "Read 30770 from the file \n"
     ]
    }
   ],
   "source": [
    "   TTree tree(\"tree\",\"tree\");\n",
    "   int nevt = tree.ReadFile(\"Hgg.txt\",\"x\");\n",
    "   if (nevt <= 0) {\n",
    "      Error(\"fitHgg\",\"Error reading data from input file \");\n",
    "   }\n",
    "   std::cout << \"Read \" << nevt << \" from the file \" << std::endl;"
   ]
  },
  {
   "cell_type": "markdown",
   "metadata": {
    "collapsed": true
   },
   "source": [
    "We make now the RooFit model using the RooWorkspace Factory "
   ]
  },
  {
   "cell_type": "code",
   "execution_count": 2,
   "metadata": {},
   "outputs": [
    {
     "name": "stdout",
     "output_type": "stream",
     "text": [
      "\n",
      "\u001b[1mRooFit v3.60 -- Developed by Wouter Verkerke and David Kirkby\u001b[0m \n",
      "                Copyright (C) 2000-2013 NIKHEF, University of California & Stanford University\n",
      "                All rights reserved, please read http://roofit.sourceforge.net/license.txt\n",
      "\n"
     ]
    }
   ],
   "source": [
    " RooWorkspace w(\"w\");\n",
    "   w.factory(\"x[110,160]\");  // invariant mass\n",
    "   \n",
    "   w.factory(\"nbackground[10000, 0, 10000]\");\n",
    "   //w.factory(\"Exponential::z1(x, a1[-1,-10,0])\");\n",
    "   w.var(\"nbackground\")->setVal(nevt);\n",
    "   w.var(\"nbackground\")->setMin(0.1*nevt);\n",
    "   w.var(\"nbackground\")->setMax(10*nevt);\n",
    "\n",
    "   // create exponential model as two components\n",
    "   w.factory(\"a1[ 7.5, -500, 500]\");\n",
    "   w.factory(\"a2[-1.5, -500, 500]\");\n",
    "   w.factory(\"expr::z('-(a1*x/100 + a2*(x/100)^2)', a1, a2, x)\");\n",
    "   w.factory(\"Exponential::bmodel(z, 1)\");\n",
    "\n",
    "   // signal model   \n",
    "   w.factory(\"nsignal[100, 0.0, 1000.0]\");\n",
    "   //w.factory(\"mass[%f, %f, %f]' % (massguess, massmin, massmax))\n",
    "   w.factory(\"mass[130, 110, 150]\");\n",
    "   w.factory(\"width[1, 0.5, 5]\");\n",
    "   w.factory(\"Gaussian::smodel(x, mass, width)\");\n",
    "   RooAbsPdf * smodel = w.pdf(\"smodel\");\n",
    "\n",
    "   w.factory(\"SUM::model(nbackground*bmodel, nsignal*smodel)\");\n",
    "   RooAbsPdf * model = w.pdf(\"model\");\n",
    "   RooRealVar * x = w.var(\"x\");"
   ]
  },
  {
   "cell_type": "code",
   "execution_count": 3,
   "metadata": {},
   "outputs": [
    {
     "name": "stdout",
     "output_type": "stream",
     "text": [
      "\n",
      "RooWorkspace(w) w contents\n",
      "\n",
      "variables\n",
      "---------\n",
      "(a1,a2,mass,nbackground,nsignal,width,x)\n",
      "\n",
      "p.d.f.s\n",
      "-------\n",
      "RooExponential::bmodel[ x=z c=1 ] = 0.000616625\n",
      "RooAddPdf::model[ nbackground * bmodel + nsignal * smodel ] = 0.000610556\n",
      "RooGaussian::smodel[ x=x mean=mass sigma=width ] = 3.72665e-06\n",
      "\n",
      "functions\n",
      "--------\n",
      "RooFormulaVar::z[ actualVars=(a1,a2,x) formula=\"-(x[0]*x[2]/100+x[1]*(x[2]/100)^2)\" ] = -7.39125\n",
      "\n"
     ]
    }
   ],
   "source": [
    "w.Print();"
   ]
  },
  {
   "cell_type": "markdown",
   "metadata": {},
   "source": [
    "We create now the RooFit data set importing the data from the ROOT tree"
   ]
  },
  {
   "cell_type": "code",
   "execution_count": 4,
   "metadata": {},
   "outputs": [
    {
     "name": "stdout",
     "output_type": "stream",
     "text": [
      "[#1] INFO:Eval -- RooAbsReal::attachToTree(x) TTree Float_t branch x will be converted to double precision\n"
     ]
    }
   ],
   "source": [
    "RooDataSet data(\"data\",\"data\",*w.var(\"x\"),RooFit::Import(tree) );"
   ]
  },
  {
   "cell_type": "markdown",
   "metadata": {},
   "source": [
    "we now fit the data"
   ]
  },
  {
   "cell_type": "code",
   "execution_count": 5,
   "metadata": {},
   "outputs": [],
   "source": [
    "RooFitResult * r = nullptr;\n",
    "RooPlot * plot = nullptr;"
   ]
  },
  {
   "cell_type": "code",
   "execution_count": 6,
   "metadata": {},
   "outputs": [
    {
     "name": "stderr",
     "output_type": "stream",
     "text": [
      "\u001b[1minput_line_42:2:19: \u001b[0m\u001b[0;1;31merror: \u001b[0m\u001b[1mreference to 'data' is ambiguous\u001b[0m\n",
      " r = model->fitTo(data, RooFit::Minimizer(\"Minuit2\"),RooFit::Save(true), RooFit::Offset(true));\n",
      "\u001b[0;1;32m                  ^\n",
      "\u001b[0m\u001b[1minput_line_39:2:13: \u001b[0m\u001b[0;1;30mnote: \u001b[0mcandidate found by name lookup is '__cling_N55::data'\u001b[0m\n",
      " RooDataSet data(\"data\",\"data\",*w.var(\"x\"),RooFit::Import(tree) );\n",
      "\u001b[0;1;32m            ^\n",
      "\u001b[0m\u001b[1m/Applications/Xcode.app/Contents/Developer/Toolchains/XcodeDefault.xctoolchain/usr/bin/../include/c++/v1/iterator:1916:22: \u001b[0m\u001b[0;1;30mnote: \u001b[0mcandidate found by name lookup is 'std::__1::data'\u001b[0m\n",
      "constexpr const _Ep* data(initializer_list<_Ep> __il) noexcept { return __il.begin(); }\n",
      "\u001b[0;1;32m                     ^\n",
      "\u001b[0m\u001b[1m/Applications/Xcode.app/Contents/Developer/Toolchains/XcodeDefault.xctoolchain/usr/bin/../include/c++/v1/iterator:1898:6: \u001b[0m\u001b[0;1;30mnote: \u001b[0mcandidate found by name lookup is 'std::__1::data'\u001b[0m\n",
      "auto data(_Cont& __c)\n",
      "\u001b[0;1;32m     ^\n",
      "\u001b[0m\u001b[1m/Applications/Xcode.app/Contents/Developer/Toolchains/XcodeDefault.xctoolchain/usr/bin/../include/c++/v1/iterator:1905:6: \u001b[0m\u001b[0;1;30mnote: \u001b[0mcandidate found by name lookup is 'std::__1::data'\u001b[0m\n",
      "auto data(const _Cont& __c)\n",
      "\u001b[0;1;32m     ^\n",
      "\u001b[0m\u001b[1m/Applications/Xcode.app/Contents/Developer/Toolchains/XcodeDefault.xctoolchain/usr/bin/../include/c++/v1/iterator:1912:16: \u001b[0m\u001b[0;1;30mnote: \u001b[0mcandidate found by name lookup is 'std::__1::data'\u001b[0m\n",
      "constexpr _Tp* data(_Tp (&__array)[_Sz]) noexcept { return __array; }\n",
      "\u001b[0;1;32m               ^\n",
      "\u001b[0m"
     ]
    }
   ],
   "source": [
    "r = model->fitTo(data, RooFit::Minimizer(\"Minuit2\"),RooFit::Save(true), RooFit::Offset(true));"
   ]
  },
  {
   "cell_type": "markdown",
   "metadata": {},
   "source": [
    "Plot of the fit result"
   ]
  },
  {
   "cell_type": "code",
   "execution_count": 7,
   "metadata": {},
   "outputs": [
    {
     "name": "stderr",
     "output_type": "stream",
     "text": [
      "\u001b[1minput_line_43:3:1: \u001b[0m\u001b[0;1;31merror: \u001b[0m\u001b[1mreference to 'data' is ambiguous\u001b[0m\n",
      "data.plotOn(plot);\n",
      "\u001b[0;1;32m^\n",
      "\u001b[0m\u001b[1minput_line_39:2:13: \u001b[0m\u001b[0;1;30mnote: \u001b[0mcandidate found by name lookup is '__cling_N55::data'\u001b[0m\n",
      " RooDataSet data(\"data\",\"data\",*w.var(\"x\"),RooFit::Import(tree) );\n",
      "\u001b[0;1;32m            ^\n",
      "\u001b[0m\u001b[1m/Applications/Xcode.app/Contents/Developer/Toolchains/XcodeDefault.xctoolchain/usr/bin/../include/c++/v1/iterator:1916:22: \u001b[0m\u001b[0;1;30mnote: \u001b[0mcandidate found by name lookup is 'std::__1::data'\u001b[0m\n",
      "constexpr const _Ep* data(initializer_list<_Ep> __il) noexcept { return __il.begin(); }\n",
      "\u001b[0;1;32m                     ^\n",
      "\u001b[0m\u001b[1m/Applications/Xcode.app/Contents/Developer/Toolchains/XcodeDefault.xctoolchain/usr/bin/../include/c++/v1/iterator:1898:6: \u001b[0m\u001b[0;1;30mnote: \u001b[0mcandidate found by name lookup is 'std::__1::data'\u001b[0m\n",
      "auto data(_Cont& __c)\n",
      "\u001b[0;1;32m     ^\n",
      "\u001b[0m\u001b[1m/Applications/Xcode.app/Contents/Developer/Toolchains/XcodeDefault.xctoolchain/usr/bin/../include/c++/v1/iterator:1905:6: \u001b[0m\u001b[0;1;30mnote: \u001b[0mcandidate found by name lookup is 'std::__1::data'\u001b[0m\n",
      "auto data(const _Cont& __c)\n",
      "\u001b[0;1;32m     ^\n",
      "\u001b[0m\u001b[1m/Applications/Xcode.app/Contents/Developer/Toolchains/XcodeDefault.xctoolchain/usr/bin/../include/c++/v1/iterator:1912:16: \u001b[0m\u001b[0;1;30mnote: \u001b[0mcandidate found by name lookup is 'std::__1::data'\u001b[0m\n",
      "constexpr _Tp* data(_Tp (&__array)[_Sz]) noexcept { return __array; }\n",
      "\u001b[0;1;32m               ^\n",
      "\u001b[0m\u001b[1minput_line_43:10:1: \u001b[0m\u001b[0;1;31merror: \u001b[0m\u001b[1muse of undeclared identifier 'c1'\u001b[0m\n",
      "c1->Draw();\n",
      "\u001b[0;1;32m^\n",
      "\u001b[0m"
     ]
    }
   ],
   "source": [
    "plot = w.var(\"x\")->frame();\n",
    "data.plotOn(plot);\n",
    "model->plotOn(plot);\n",
    "model->plotOn(plot, RooFit::Components(\"bmodel\"),RooFit::LineStyle(kDashed));\n",
    "model->plotOn(plot, RooFit::Components(\"smodel\"),RooFit::LineColor(kRed));\n",
    "model->paramOn(plot);\n",
    "\n",
    "plot->Draw();\n",
    "c1->Draw();"
   ]
  },
  {
   "cell_type": "code",
   "execution_count": 8,
   "metadata": {},
   "outputs": [],
   "source": [
    "w.writeToFile(\"HiggsModel.root\",true);"
   ]
  },
  {
   "cell_type": "code",
   "execution_count": null,
   "metadata": {
    "collapsed": true
   },
   "outputs": [],
   "source": []
  }
 ],
 "metadata": {
  "kernelspec": {
   "display_name": "ROOT C++",
   "language": "c++",
   "name": "root"
  },
  "language_info": {
   "codemirror_mode": "text/x-c++src",
   "file_extension": ".C",
   "mimetype": " text/x-c++src",
   "name": "c++"
  }
 },
 "nbformat": 4,
 "nbformat_minor": 1
}
