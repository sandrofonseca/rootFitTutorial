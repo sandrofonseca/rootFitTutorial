{
 "cells": [
  {
   "cell_type": "markdown",
   "metadata": {},
   "source": [
    "Create First an empty histogram with 50 bins with range [-10,10]"
   ]
  },
  {
   "cell_type": "code",
   "execution_count": null,
   "metadata": {
    "collapsed": false
   },
   "outputs": [],
   "source": [
    "TH1D h1(\"h1\",\"h1\",50,-10,10)"
   ]
  },
  {
   "cell_type": "markdown",
   "metadata": {},
   "source": [
    "Fill the histogram with 10000 Gaussian Random number with mean=1 and sigma=2"
   ]
  },
  {
   "cell_type": "code",
   "execution_count": null,
   "metadata": {
    "collapsed": false
   },
   "outputs": [],
   "source": [
    "for (int i = 0; i < 1000; ++i) { h1.Fill(gRandom->Gaus(1,2));}"
   ]
  },
  {
   "cell_type": "markdown",
   "metadata": {},
   "source": [
    "We could also use the function h1.FillRandom(\"gaus\"), but we need to set the right parameters of the Gaussian function before."
   ]
  },
  {
   "cell_type": "code",
   "execution_count": null,
   "metadata": {
    "collapsed": false
   },
   "outputs": [],
   "source": [
    "h1.Draw(); gPad->Draw();"
   ]
  },
  {
   "cell_type": "markdown",
   "metadata": {},
   "source": [
    "Before Fitting we need to create the fitting function and set its initial parameter values. \n",
    "For a Gaussian function in reality is not needed, because they can be computed automatically. "
   ]
  },
  {
   "cell_type": "code",
   "execution_count": null,
   "metadata": {
    "collapsed": false
   },
   "outputs": [],
   "source": [
    "TF1 * f1 = nullptr; "
   ]
  },
  {
   "cell_type": "code",
   "execution_count": null,
   "metadata": {
    "collapsed": false
   },
   "outputs": [],
   "source": [
    "f1 = new TF1(\"f1\",\"gaus\",-10,10);"
   ]
  },
  {
   "cell_type": "code",
   "execution_count": null,
   "metadata": {
    "collapsed": false
   },
   "outputs": [],
   "source": [
    "f1->SetParameters(100,0,1);  "
   ]
  },
  {
   "cell_type": "markdown",
   "metadata": {},
   "source": [
    "We fit now the histogram using the Fit method in ROOT. By default the least-square method is used. \n",
    "For likelihood fits we need to use the option \"L\". \n",
    "The option \"S\" is used to create a TFitResult object that is returned to the user.\n",
    "If we want to compute the error using MINOS, we use the \"E\" option\n",
    "We want to change also the default Minimization engine. We will use Minuit2"
   ]
  },
  {
   "cell_type": "code",
   "execution_count": null,
   "metadata": {
    "collapsed": false
   },
   "outputs": [],
   "source": [
    "ROOT::Math::MinimizerOptions::SetDefaultMinimizer(\"Minuit2\");"
   ]
  },
  {
   "cell_type": "code",
   "execution_count": null,
   "metadata": {
    "collapsed": false
   },
   "outputs": [],
   "source": [
    "TFitResultPtr res; "
   ]
  },
  {
   "cell_type": "code",
   "execution_count": null,
   "metadata": {
    "collapsed": false
   },
   "outputs": [],
   "source": [
    "res = h1.Fit(f1, \"S L E\")"
   ]
  },
  {
   "cell_type": "code",
   "execution_count": null,
   "metadata": {
    "collapsed": false
   },
   "outputs": [],
   "source": [
    "gStyle->SetOptFit(1);"
   ]
  },
  {
   "cell_type": "code",
   "execution_count": null,
   "metadata": {
    "collapsed": false
   },
   "outputs": [],
   "source": [
    "gPad->Draw();"
   ]
  },
  {
   "cell_type": "markdown",
   "metadata": {},
   "source": [
    "We can now print the result of the Fit"
   ]
  },
  {
   "cell_type": "code",
   "execution_count": null,
   "metadata": {
    "collapsed": false
   },
   "outputs": [],
   "source": [
    "res->Print();"
   ]
  },
  {
   "cell_type": "markdown",
   "metadata": {},
   "source": [
    "We now get the corre;ation matrix of the fit from the TFitResult class"
   ]
  },
  {
   "cell_type": "code",
   "execution_count": null,
   "metadata": {
    "collapsed": false
   },
   "outputs": [],
   "source": [
    "TMatrixDSym corrMatrix;"
   ]
  },
  {
   "cell_type": "code",
   "execution_count": null,
   "metadata": {
    "collapsed": false
   },
   "outputs": [],
   "source": [
    "corrMatrix = res->GetCorrelationMatrix(); "
   ]
  },
  {
   "cell_type": "code",
   "execution_count": null,
   "metadata": {
    "collapsed": false
   },
   "outputs": [],
   "source": [
    "corrMatrix.Print(); "
   ]
  },
  {
   "cell_type": "code",
   "execution_count": null,
   "metadata": {
    "collapsed": false
   },
   "outputs": [],
   "source": [
    "std::cout  << \"Gaussian sigma = \" << f1->GetParameter(\"Sigma\") << \"  +/- \" << f1->GetParError(f1->GetParNumber(\"Sigma\")) << std::endl;"
   ]
  },
  {
   "cell_type": "markdown",
   "metadata": {},
   "source": [
    "If we want to access the MINOS asymmetric error, we can get them from the FitResult object"
   ]
  },
  {
   "cell_type": "code",
   "execution_count": null,
   "metadata": {
    "collapsed": false
   },
   "outputs": [],
   "source": [
    "std::cout  << \"Gaussian sigma = \" << res->Parameter(2) << \"  + \" << res->UpperError(2) << \"  \" << res->LowerError(2) << std::endl;"
   ]
  },
  {
   "cell_type": "markdown",
   "metadata": {},
   "source": [
    "We study now the Fit Bias for the sigma parameter"
   ]
  },
  {
   "cell_type": "code",
   "execution_count": null,
   "metadata": {
    "collapsed": false
   },
   "outputs": [],
   "source": [
    "TH1 * hs = nullptr;"
   ]
  },
  {
   "cell_type": "code",
   "execution_count": null,
   "metadata": {
    "collapsed": false
   },
   "outputs": [],
   "source": [
    "hs = new TH1D(\"hs\",\"Sigma pull distribution\",50,-4,4);"
   ]
  },
  {
   "cell_type": "code",
   "execution_count": null,
   "metadata": {
    "collapsed": false
   },
   "outputs": [],
   "source": [
    "hs->Reset(); // in case we run a second time\n",
    "for (int iexp = 0; iexp < 1000; ++iexp) { \n",
    "    TH1D h0(\"h0\",\"h0\",50,-10,10);\n",
    "    for (int i = 0; i < 1000; ++i){\n",
    "        h0.Fill(gRandom->Gaus(0,2));\n",
    "    }\n",
    "    TF1 f1(\"f1\",\"gaus\",-10,10);\n",
    "    f1.SetParameters(100,0,1);\n",
    "    h0.Fit(&f1,\"Q  \");  // use Q option to avoid too much printing\n",
    "    hs->Fill( (f1.GetParameter(2)- 2)/f1.GetParError(2));  // to get sigma and its error\n",
    "    //std::cout << f1.GetParameter(2) << \" \" << f1.GetParError(2) << std::endl;\n",
    "}"
   ]
  },
  {
   "cell_type": "code",
   "execution_count": null,
   "metadata": {
    "collapsed": false
   },
   "outputs": [],
   "source": [
    "hs->Fit(\"gaus\"); gPad->Draw();"
   ]
  },
  {
   "cell_type": "code",
   "execution_count": null,
   "metadata": {
    "collapsed": true
   },
   "outputs": [],
   "source": []
  }
 ],
 "metadata": {
  "kernelspec": {
   "display_name": "ROOT",
   "language": "c++",
   "name": "root"
  },
  "language_info": {
   "codemirror_mode": "text/x-c++src",
   "file_extension": ".C",
   "mimetype": " text/x-c++src",
   "name": "c++"
  }
 },
 "nbformat": 4,
 "nbformat_minor": 0
}
