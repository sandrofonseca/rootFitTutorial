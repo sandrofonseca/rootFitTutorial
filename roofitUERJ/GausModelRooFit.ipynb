{
 "cells": [
  {
   "cell_type": "code",
   "execution_count": 1,
   "metadata": {
    "collapsed": false
   },
   "outputs": [
    {
     "name": "stdout",
     "output_type": "stream",
     "text": [
      "\n",
      "\u001b[1mRooFit v3.60 -- Developed by Wouter Verkerke and David Kirkby\u001b[0m \n",
      "                Copyright (C) 2000-2013 NIKHEF, University of California & Stanford University\n",
      "                All rights reserved, please read http://roofit.sourceforge.net/license.txt\n",
      "\n"
     ]
    }
   ],
   "source": [
    "RooWorkspace w(\"w\");\n",
    "// define a Gaussian pdf\n",
    "w.factory(\"Gaussian:g(x[-5,5],mu[0,-10,10],sigma[1,0,1000])\");\n",
    "// create extend pdf with number of events\n",
    "w.factory(\"ExtendPdf:model(g,nevt[100,0,100000])\");   \n",
    "\n",
    "RooAbsPdf * pdf = w.pdf(\"model\");   // access object from workspace\n",
    "RooRealVar * x = w.var(\"x\");   // access object from workspace"
   ]
  },
  {
   "cell_type": "code",
   "execution_count": null,
   "metadata": {
    "collapsed": true
   },
   "outputs": [],
   "source": [
    "RooPlot * pl = nullptr;"
   ]
  },
  {
   "cell_type": "code",
   "execution_count": 9,
   "metadata": {
    "collapsed": false
   },
   "outputs": [
    {
     "data": {
      "image/png": "[encoded data removed]",
      "text/plain": [
       "<IPython.core.display.Image object>"
      ]
     },
     "metadata": {},
     "output_type": "display_data"
    },
    {
     "name": "stdout",
     "output_type": "stream",
     "text": []
    }
   ],
   "source": [
    "pl = x->frame(); \n",
    "pdf->plotOn(pl);\n",
    "pl->Draw(); c1->Draw();"
   ]
  },
  {
   "cell_type": "code",
   "execution_count": 7,
   "metadata": {
    "collapsed": false
   },
   "outputs": [
    {
     "name": "stdout",
     "output_type": "stream",
     "text": [
      "0x5d0e730 RooExtendPdf::model = 1 [Auto,Dirty] \n",
      "  0x5ce88d0/V- RooGaussian::g = 1 [Auto,Dirty] \n",
      "    0x3079460/V- RooRealVar::x = 0\n",
      "    0x5ce5c60/V- RooRealVar::mu = 0\n",
      "    0x5ce64b0/V- RooRealVar::sigma = 1\n",
      "  0x5cf05b0/V- RooRealVar::nevt = 100\n"
     ]
    }
   ],
   "source": [
    "pdf->Print(\"t\")"
   ]
  },
  {
   "cell_type": "markdown",
   "metadata": {},
   "source": [
    "Create the data set by generating first 1000 data points. We do not bin the data "
   ]
  },
  {
   "cell_type": "code",
   "execution_count": 10,
   "metadata": {
    "collapsed": false
   },
   "outputs": [
    {
     "name": "stdout",
     "output_type": "stream",
     "text": []
    }
   ],
   "source": [
    "RooDataSet * data = nullptr;"
   ]
  },
  {
   "cell_type": "code",
   "execution_count": 11,
   "metadata": {
    "collapsed": false
   },
   "outputs": [
    {
     "name": "stdout",
     "output_type": "stream",
     "text": []
    }
   ],
   "source": [
    "data = pdf->generate(*x, 1000);"
   ]
  },
  {
   "cell_type": "markdown",
   "metadata": {},
   "source": [
    "We plot the data points. FOr plotting the data are binned in a default number of bins (100) which is defined in the RooRealVar object. Use x.setBins(50) to change the number of bins."
   ]
  },
  {
   "cell_type": "code",
   "execution_count": 12,
   "metadata": {
    "collapsed": false
   },
   "outputs": [
    {
     "data": {
      "image/png": "[encoded data removed]",
      "text/plain": [
       "<IPython.core.display.Image object>"
      ]
     },
     "metadata": {},
     "output_type": "display_data"
    },
    {
     "name": "stdout",
     "output_type": "stream",
     "text": [
      "[#1] INFO:Plotting -- RooPlot::updateFitRangeNorm: New event count of 1000 will supercede previous event count of 1 for normalization of PDF projections\n"
     ]
    }
   ],
   "source": [
    "data->plotOn(pl); \n",
    "pl->Draw(); c1->Draw();"
   ]
  },
  {
   "cell_type": "markdown",
   "metadata": {},
   "source": [
    "Now we fit the data set and store the result in a RooFitResult class. We use Minuit2 for the minimization"
   ]
  },
  {
   "cell_type": "code",
   "execution_count": 13,
   "metadata": {
    "collapsed": false
   },
   "outputs": [
    {
     "name": "stdout",
     "output_type": "stream",
     "text": []
    }
   ],
   "source": [
    " RooFitResult * res = nullptr;"
   ]
  },
  {
   "cell_type": "code",
   "execution_count": 14,
   "metadata": {
    "collapsed": false
   },
   "outputs": [
    {
     "name": "stdout",
     "output_type": "stream",
     "text": [
      "[#1] INFO:Minization -- p.d.f. provides expected number of events, including extended term in likelihood.\n",
      "[#1] INFO:Minization -- RooMinimizer::optimizeConst: activating const optimization\n",
      "Minuit2Minimizer: Minimize with max-calls 1500 convergence for edm < 1 strategy 1\n",
      "MnSeedGenerator: for initial parameters FCN = -3059.217117442\n",
      "MnSeedGenerator: Initial state:   - FCN =  -3059.217117442 Edm =      737.843 NCalls =     13\n",
      "VariableMetric: start iterating until Edm is < 0.001\n",
      "VariableMetric: Initial state   - FCN =  -3059.217117442 Edm =      737.843 NCalls =     13\n",
      "VariableMetric: Iteration #   0 - FCN =  -3059.217117442 Edm =      737.843 NCalls =     13\n",
      "VariableMetric: Iteration #   1 - FCN =  -4458.383216018 Edm =      3.86624 NCalls =     26\n",
      "VariableMetric: Iteration #   2 - FCN =  -4463.624438917 Edm =     0.127244 NCalls =     34\n",
      "VariableMetric: Iteration #   3 - FCN =  -4463.818944263 Edm =    0.0135627 NCalls =     42\n",
      "VariableMetric: Iteration #   4 - FCN =  -4463.835157438 Edm =     0.000193 NCalls =     50\n",
      "VariableMetric: After Hessian   - FCN =  -4463.835157438 Edm =  0.000195931 NCalls =     66\n",
      "VariableMetric: Iteration #   5 - FCN =  -4463.835157438 Edm =  0.000195931 NCalls =     66\n",
      "Minuit2Minimizer : Valid minimum - status = 0\n",
      "FVAL  = -4463.83515743805674\n",
      "Edm   = 0.000195931261755752563\n",
      "Nfcn  = 66\n",
      "mu\t  = 0.0528836\t +/-  0.0324092\t(limited)\n",
      "nevt\t  = 999.978\t +/-  31.6222\t(limited)\n",
      "sigma\t  = 1.02486\t +/-  0.0229077\t(limited)\n",
      "[#1] INFO:Minization -- RooMinimizer::optimizeConst: deactivating const optimization\n"
     ]
    },
    {
     "name": "stderr",
     "output_type": "stream",
     "text": [
      "Info in <Minuit2>: Minuit2Minimizer::Hesse : Hesse is valid - matrix is accurate\n"
     ]
    }
   ],
   "source": [
    "res = pdf->fitTo(*data, RooFit::Minimizer(\"Minuit2\",\"Migrad\"), RooFit::Save(1) ); "
   ]
  },
  {
   "cell_type": "code",
   "execution_count": 15,
   "metadata": {
    "collapsed": false
   },
   "outputs": [
    {
     "name": "stdout",
     "output_type": "stream",
     "text": [
      "\n",
      "  RooFitResult: minimized FCN value: -4463.84, estimated distance to minimum: 0.000195913\n",
      "                covariance matrix quality: Full, accurate covariance matrix\n",
      "                Status : MINIMIZE=0 HESSE=0 \n",
      "\n",
      "    Floating Parameter    FinalValue +/-  Error   \n",
      "  --------------------  --------------------------\n",
      "                    mu    5.2884e-02 +/-  3.24e-02\n",
      "                  nevt    9.9998e+02 +/-  3.16e+01\n",
      "                 sigma    1.0249e+00 +/-  2.29e-02\n",
      "\n"
     ]
    }
   ],
   "source": [
    "res->Print()"
   ]
  },
  {
   "cell_type": "markdown",
   "metadata": {},
   "source": [
    "We plot now the fitted function and its resulting parameter values"
   ]
  },
  {
   "cell_type": "code",
   "execution_count": 16,
   "metadata": {
    "collapsed": false
   },
   "outputs": [
    {
     "data": {
      "image/png": "[encoded data removed]",
      "text/plain": [
       "<IPython.core.display.Image object>"
      ]
     },
     "metadata": {},
     "output_type": "display_data"
    },
    {
     "name": "stdout",
     "output_type": "stream",
     "text": []
    }
   ],
   "source": [
    "pdf->plotOn(pl);\n",
    "pdf->paramOn(pl);\n",
    "pl->Draw(); \n",
    "c1->Draw();             "
   ]
  },
  {
   "cell_type": "markdown",
   "metadata": {},
   "source": [
    "We save now the workspace in a file"
   ]
  },
  {
   "cell_type": "code",
   "execution_count": 17,
   "metadata": {
    "collapsed": false
   },
   "outputs": [
    {
     "name": "stdout",
     "output_type": "stream",
     "text": []
    }
   ],
   "source": [
    "w.writeToFile(\"GaussianModel.root\", true);"
   ]
  },
  {
   "cell_type": "code",
   "execution_count": null,
   "metadata": {
    "collapsed": true
   },
   "outputs": [],
   "source": []
  }
 ],
 "metadata": {
  "kernelspec": {
   "display_name": "ROOT",
   "language": "c++",
   "name": "root"
  },
  "language_info": {
   "codemirror_mode": "text/x-c++src",
   "file_extension": ".C",
   "mimetype": " text/x-c++src",
   "name": "c++"
  }
 },
 "nbformat": 4,
 "nbformat_minor": 0
}
