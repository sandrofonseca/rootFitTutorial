{
 "cells": [
  {
   "cell_type": "code",
   "execution_count": 1,
   "metadata": {
    "collapsed": false
   },
   "outputs": [
    {
     "name": "stdout",
     "output_type": "stream",
     "text": []
    }
   ],
   "source": [
    " TTree * tree = new TTree(\"tree\",\"tree\");"
   ]
  },
  {
   "cell_type": "markdown",
   "metadata": {},
   "source": [
    "We define now the branches we want to read"
   ]
  },
  {
   "cell_type": "code",
   "execution_count": 2,
   "metadata": {
    "collapsed": false
   },
   "outputs": [
    {
     "name": "stdout",
     "output_type": "stream",
     "text": []
    }
   ],
   "source": [
    " TString branchDescription(\"Type/C:RunNo/I:EvNo/I:E1/F:px1:py1:pz1:pt1:eta1:phi1:Q1/I:E2/F:px2:py2:pz2:pt2:eta2:phi2:Q2/I:M/F\");"
   ]
  },
  {
   "cell_type": "markdown",
   "metadata": {
    "collapsed": true
   },
   "source": [
    "Read the tree from the text file"
   ]
  },
  {
   "cell_type": "code",
   "execution_count": 3,
   "metadata": {
    "collapsed": false
   },
   "outputs": [
    {
     "name": "stdout",
     "output_type": "stream",
     "text": []
    }
   ],
   "source": [
    "tree->ReadFile(\"dimuon_2-5Gev.csv\",branchDescription,',');"
   ]
  },
  {
   "cell_type": "code",
   "execution_count": 4,
   "metadata": {
    "collapsed": false
   },
   "outputs": [
    {
     "name": "stdout",
     "output_type": "stream",
     "text": [
      "******************************************************************************\n",
      "*Tree    :tree      : tree                                                   *\n",
      "*Entries :     2000 : Total =          178697 bytes  File  Size =          0 *\n",
      "*        :          : Tree compression factor =   1.00                       *\n",
      "******************************************************************************\n",
      "*Br    0 :Type      : Type/C                                                 *\n",
      "*Entries :     2000 : Total  Size=      14632 bytes  One basket in memory    *\n",
      "*Baskets :        0 : Basket Size=      32000 bytes  Compression=   1.00     *\n",
      "*............................................................................*\n",
      "*Br    1 :RunNo     : RunNo/I                                                *\n",
      "*Entries :     2000 : Total  Size=       8634 bytes  One basket in memory    *\n",
      "*Baskets :        0 : Basket Size=      32000 bytes  Compression=   1.00     *\n",
      "*............................................................................*\n",
      "*Br    2 :EvNo      : EvNo/I                                                 *\n",
      "*Entries :     2000 : Total  Size=       8628 bytes  One basket in memory    *\n",
      "*Baskets :        0 : Basket Size=      32000 bytes  Compression=   1.00     *\n",
      "*............................................................................*\n",
      "*Br    3 :E1        : E1/F                                                   *\n",
      "*Entries :     2000 : Total  Size=       8616 bytes  One basket in memory    *\n",
      "*Baskets :        0 : Basket Size=      32000 bytes  Compression=   1.00     *\n",
      "*............................................................................*\n",
      "*Br    4 :px1       : px1/F                                                  *\n",
      "*Entries :     2000 : Total  Size=       8622 bytes  One basket in memory    *\n",
      "*Baskets :        0 : Basket Size=      32000 bytes  Compression=   1.00     *\n",
      "*............................................................................*\n",
      "*Br    5 :py1       : py1/F                                                  *\n",
      "*Entries :     2000 : Total  Size=       8622 bytes  One basket in memory    *\n",
      "*Baskets :        0 : Basket Size=      32000 bytes  Compression=   1.00     *\n",
      "*............................................................................*\n",
      "*Br    6 :pz1       : pz1/F                                                  *\n",
      "*Entries :     2000 : Total  Size=       8622 bytes  One basket in memory    *\n",
      "*Baskets :        0 : Basket Size=      32000 bytes  Compression=   1.00     *\n",
      "*............................................................................*\n",
      "*Br    7 :pt1       : pt1/F                                                  *\n",
      "*Entries :     2000 : Total  Size=       8622 bytes  One basket in memory    *\n",
      "*Baskets :        0 : Basket Size=      32000 bytes  Compression=   1.00     *\n",
      "*............................................................................*\n",
      "*Br    8 :eta1      : eta1/F                                                 *\n",
      "*Entries :     2000 : Total  Size=       8628 bytes  One basket in memory    *\n",
      "*Baskets :        0 : Basket Size=      32000 bytes  Compression=   1.00     *\n",
      "*............................................................................*\n",
      "*Br    9 :phi1      : phi1/F                                                 *\n",
      "*Entries :     2000 : Total  Size=       8628 bytes  One basket in memory    *\n",
      "*Baskets :        0 : Basket Size=      32000 bytes  Compression=   1.00     *\n",
      "*............................................................................*\n",
      "*Br   10 :Q1        : Q1/I                                                   *\n",
      "*Entries :     2000 : Total  Size=       8616 bytes  One basket in memory    *\n",
      "*Baskets :        0 : Basket Size=      32000 bytes  Compression=   1.00     *\n",
      "*............................................................................*\n",
      "*Br   11 :E2        : E2/F                                                   *\n",
      "*Entries :     2000 : Total  Size=       8616 bytes  One basket in memory    *\n",
      "*Baskets :        0 : Basket Size=      32000 bytes  Compression=   1.00     *\n",
      "*............................................................................*\n",
      "*Br   12 :px2       : px2/F                                                  *\n",
      "*Entries :     2000 : Total  Size=       8622 bytes  One basket in memory    *\n",
      "*Baskets :        0 : Basket Size=      32000 bytes  Compression=   1.00     *\n",
      "*............................................................................*\n",
      "*Br   13 :py2       : py2/F                                                  *\n",
      "*Entries :     2000 : Total  Size=       8622 bytes  One basket in memory    *\n",
      "*Baskets :        0 : Basket Size=      32000 bytes  Compression=   1.00     *\n",
      "*............................................................................*\n",
      "*Br   14 :pz2       : pz2/F                                                  *\n",
      "*Entries :     2000 : Total  Size=       8622 bytes  One basket in memory    *\n",
      "*Baskets :        0 : Basket Size=      32000 bytes  Compression=   1.00     *\n",
      "*............................................................................*\n",
      "*Br   15 :pt2       : pt2/F                                                  *\n",
      "*Entries :     2000 : Total  Size=       8622 bytes  One basket in memory    *\n",
      "*Baskets :        0 : Basket Size=      32000 bytes  Compression=   1.00     *\n",
      "*............................................................................*\n",
      "*Br   16 :eta2      : eta2/F                                                 *\n",
      "*Entries :     2000 : Total  Size=       8628 bytes  One basket in memory    *\n",
      "*Baskets :        0 : Basket Size=      32000 bytes  Compression=   1.00     *\n",
      "*............................................................................*\n",
      "*Br   17 :phi2      : phi2/F                                                 *\n",
      "*Entries :     2000 : Total  Size=       8628 bytes  One basket in memory    *\n",
      "*Baskets :        0 : Basket Size=      32000 bytes  Compression=   1.00     *\n",
      "*............................................................................*\n",
      "*Br   18 :Q2        : Q2/I                                                   *\n",
      "*Entries :     2000 : Total  Size=       8616 bytes  One basket in memory    *\n",
      "*Baskets :        0 : Basket Size=      32000 bytes  Compression=   1.00     *\n",
      "*............................................................................*\n",
      "*Br   19 :M         : M/F                                                    *\n",
      "*Entries :     2000 : Total  Size=       8610 bytes  One basket in memory    *\n",
      "*Baskets :        0 : Basket Size=      32000 bytes  Compression=   1.00     *\n",
      "*............................................................................*\n"
     ]
    }
   ],
   "source": [
    "tree->Print()"
   ]
  },
  {
   "cell_type": "markdown",
   "metadata": {},
   "source": [
    "We make now the histogram which we are going to fill with the tree data"
   ]
  },
  {
   "cell_type": "code",
   "execution_count": 5,
   "metadata": {
    "collapsed": false
   },
   "outputs": [
    {
     "name": "stdout",
     "output_type": "stream",
     "text": []
    }
   ],
   "source": [
    "h1 = new TH1D(\"h1\",\"h1\",60,2,5);"
   ]
  },
  {
   "cell_type": "markdown",
   "metadata": {},
   "source": [
    "We will now the histogram using TTree::Draw with the invariant mass variable"
   ]
  },
  {
   "cell_type": "code",
   "execution_count": 6,
   "metadata": {
    "collapsed": false
   },
   "outputs": [
    {
     "name": "stdout",
     "output_type": "stream",
     "text": []
    },
    {
     "name": "stderr",
     "output_type": "stream",
     "text": [
      "Info in <TCanvas::MakeDefCanvas>:  created default TCanvas with name c1\n"
     ]
    }
   ],
   "source": [
    "tree->Draw(\"M >> h1\");"
   ]
  },
  {
   "cell_type": "code",
   "execution_count": 7,
   "metadata": {
    "collapsed": false
   },
   "outputs": [
    {
     "data": {
      "image/png": "[encoded data removed]",
      "text/plain": [
       "<IPython.core.display.Image object>"
      ]
     },
     "metadata": {},
     "output_type": "display_data"
    },
    {
     "name": "stdout",
     "output_type": "stream",
     "text": []
    }
   ],
   "source": [
    "gPad->Draw()"
   ]
  },
  {
   "cell_type": "markdown",
   "metadata": {},
   "source": [
    "We do first a Gaussian fit and then a background fit "
   ]
  },
  {
   "cell_type": "code",
   "execution_count": 8,
   "metadata": {
    "collapsed": false
   },
   "outputs": [
    {
     "name": "stdout",
     "output_type": "stream",
     "text": [
      " FCN=30.5527 FROM MIGRAD    STATUS=CONVERGED      90 CALLS          91 TOTAL\n",
      "                     EDM=1.47351e-08    STRATEGY= 1  ERROR MATRIX UNCERTAINTY   2.5 per cent\n",
      "  EXT PARAMETER                                   STEP         FIRST   \n",
      "  NO.   NAME      VALUE            ERROR          SIZE      DERIVATIVE \n",
      "   1  Constant     5.64163e+01   3.30924e+00   9.59492e-03  -3.98835e-05\n",
      "   2  Mean         2.96243e+00   3.07218e-02   2.42690e-05   4.63756e-03\n",
      "   3  Sigma        3.05245e-01   4.90781e-02  -1.88765e-04   2.20343e-03\n"
     ]
    }
   ],
   "source": [
    "r1 = h1->Fit(\"gaus\",\"S\",\"\",2.7,3.3);"
   ]
  },
  {
   "cell_type": "code",
   "execution_count": 9,
   "metadata": {
    "collapsed": false
   },
   "outputs": [
    {
     "name": "stdout",
     "output_type": "stream",
     "text": [
      " FCN=146.856 FROM MIGRAD    STATUS=CONVERGED      49 CALLS          50 TOTAL\n",
      "                     EDM=3.25003e-09    STRATEGY= 1      ERROR MATRIX ACCURATE \n",
      "  EXT PARAMETER                                   STEP         FIRST   \n",
      "  NO.   NAME      VALUE            ERROR          SIZE      DERIVATIVE \n",
      "   1  Constant     6.11909e+00   8.60254e-02   1.37918e-04   3.36869e-03\n",
      "   2  Slope       -8.40199e-01   2.82765e-02   4.53331e-05   1.05539e-02\n"
     ]
    }
   ],
   "source": [
    "r2 = h1->Fit(\"expo\",\"S +\"); // use option + do add the bkg function to the plot"
   ]
  },
  {
   "cell_type": "code",
   "execution_count": 10,
   "metadata": {
    "collapsed": false
   },
   "outputs": [
    {
     "data": {
      "image/png": "[encoded data removed]",
      "text/plain": [
       "<IPython.core.display.Image object>"
      ]
     },
     "metadata": {},
     "output_type": "display_data"
    },
    {
     "name": "stdout",
     "output_type": "stream",
     "text": []
    }
   ],
   "source": [
    "gPad->Draw();"
   ]
  },
  {
   "cell_type": "markdown",
   "metadata": {},
   "source": [
    "we create the global fit function"
   ]
  },
  {
   "cell_type": "code",
   "execution_count": 11,
   "metadata": {
    "collapsed": false
   },
   "outputs": [
    {
     "name": "stdout",
     "output_type": "stream",
     "text": []
    }
   ],
   "source": [
    "f1 = new TF1(\"fitFunc\",\"gaus(0)+expo(3)\");"
   ]
  },
  {
   "cell_type": "markdown",
   "metadata": {},
   "source": [
    "We set the initial function parameters"
   ]
  },
  {
   "cell_type": "code",
   "execution_count": 16,
   "metadata": {
    "collapsed": false
   },
   "outputs": [
    {
     "name": "stdout",
     "output_type": "stream",
     "text": []
    }
   ],
   "source": [
    "// parameters of first gaussian\n",
    "f1->SetParameter(0,r1->Parameter(0));\n",
    "f1->SetParameter(1,r1->Parameter(1));\n",
    "f1->SetParameter(2,r1->Parameter(2));\n",
    "// parameters of the exponential \n",
    "f1->SetParameter(3,r2->Parameter(0));\n",
    "f1->SetParameter(4,r2->Parameter(1));\n",
    "// set the parameter names\n",
    "f1->SetParNames(\"A\",\"Mean\",\"Sigma\",\"B\",\"Slope\");"
   ]
  },
  {
   "cell_type": "markdown",
   "metadata": {},
   "source": [
    "now we do the global fit using Minuit2"
   ]
  },
  {
   "cell_type": "code",
   "execution_count": 17,
   "metadata": {
    "collapsed": false,
    "scrolled": true
   },
   "outputs": [
    {
     "name": "stdout",
     "output_type": "stream",
     "text": [
      "\n",
      "****************************************\n",
      "Minimizer is Minuit2 / Migrad\n",
      "MinFCN                    =      39.0937\n",
      "Chi2                      =      84.4604\n",
      "NDf                       =           55\n",
      "Edm                       =  5.72672e-08\n",
      "NCalls                    =          222\n",
      "A                         =       45.829   +/-   7.53359     \n",
      "Mean                      =       3.0894   +/-   0.0101223   \n",
      "Sigma                     =    0.0597861   +/-   0.0111565   \n",
      "B                         =      6.10053   +/-   0.093544    \n",
      "Slope                     =     -0.83212   +/-   0.0309807   \n"
     ]
    }
   ],
   "source": [
    "ROOT::Math::MinimizerOptions::SetDefaultMinimizer(\"Minuit2\");\n",
    "res = h1->Fit(f1,\"SL\"); "
   ]
  },
  {
   "cell_type": "code",
   "execution_count": 18,
   "metadata": {
    "collapsed": false
   },
   "outputs": [
    {
     "data": {
      "image/png": "[encoded data removed]",
      "text/plain": [
       "<IPython.core.display.Image object>"
      ]
     },
     "metadata": {},
     "output_type": "display_data"
    },
    {
     "name": "stdout",
     "output_type": "stream",
     "text": []
    }
   ],
   "source": [
    "gPad->Draw()"
   ]
  },
  {
   "cell_type": "markdown",
   "metadata": {},
   "source": [
    "Now we want to compute the number of signal events. We can do this by using error propagation from the Fit parameters.\n",
    "Let's define first a function for the signal events "
   ]
  },
  {
   "cell_type": "code",
   "execution_count": 19,
   "metadata": {
    "collapsed": false
   },
   "outputs": [
    {
     "name": "stdout",
     "output_type": "stream",
     "text": []
    }
   ],
   "source": [
    "TF1 * peakFunc = new TF1(\"peakFunc\",\"gaus\");"
   ]
  },
  {
   "cell_type": "code",
   "execution_count": 20,
   "metadata": {
    "collapsed": false
   },
   "outputs": [
    {
     "name": "stdout",
     "output_type": "stream",
     "text": []
    }
   ],
   "source": [
    "peakFunc->SetParameter(0, f1->GetParameter(0));\n",
    "peakFunc->SetParameter(1, f1->GetParameter(1));\n",
    "peakFunc->SetParameter(2, f1->GetParameter(2));"
   ]
  },
  {
   "cell_type": "markdown",
   "metadata": {},
   "source": [
    "We get now the correlation matrix for the peak function parameter from the global correlation matrix from the fit"
   ]
  },
  {
   "cell_type": "code",
   "execution_count": 21,
   "metadata": {
    "collapsed": false
   },
   "outputs": [
    {
     "name": "stdout",
     "output_type": "stream",
     "text": []
    }
   ],
   "source": [
    "fitCovMatrix = res->GetCovarianceMatrix(); \n",
    "peakCovMatrix = fitCovMatrix.GetSub(0,2,0,2);"
   ]
  },
  {
   "cell_type": "markdown",
   "metadata": {},
   "source": [
    "We can then call TF1::Integral to get the number of signal events and the TF1::IntegralError  to get the corresponding error"
   ]
  },
  {
   "cell_type": "code",
   "execution_count": 22,
   "metadata": {
    "collapsed": false
   },
   "outputs": [
    {
     "name": "stdout",
     "output_type": "stream",
     "text": [
      "number of signal events = 137.36\n"
     ]
    }
   ],
   "source": [
    "nsignal = peakFunc->Integral(0,10) / h1->GetBinWidth(1);\n",
    "std::cout << \"number of signal events = \" << nsignal << std::endl;"
   ]
  },
  {
   "cell_type": "code",
   "execution_count": null,
   "metadata": {
    "collapsed": false
   },
   "outputs": [],
   "source": [
    "peakCovMatrix.Print()"
   ]
  },
  {
   "cell_type": "code",
   "execution_count": null,
   "metadata": {
    "collapsed": false
   },
   "outputs": [],
   "source": [
    "peakFunc->Print()"
   ]
  },
  {
   "cell_type": "code",
   "execution_count": 23,
   "metadata": {
    "collapsed": false
   },
   "outputs": [
    {
     "name": "stdout",
     "output_type": "stream",
     "text": []
    }
   ],
   "source": [
    "double * params  = peakFunc->GetParameters();\n",
    "double * covArray = peakCovMatrix.GetMatrixArray();"
   ]
  },
  {
   "cell_type": "code",
   "execution_count": 25,
   "metadata": {
    "collapsed": false
   },
   "outputs": [
    {
     "name": "stdout",
     "output_type": "stream",
     "text": [
      "number of signal events = 137.36 +/- 21.0888\n"
     ]
    }
   ],
   "source": [
    "nsignalError = peakFunc->IntegralError(0,10,params,covArray)/h1->GetBinWidth(2);\n",
    "std::cout << \"number of signal events = \" << nsignal << \" +/- \" << nsignalError << std::endl;    "
   ]
  },
  {
   "cell_type": "markdown",
   "metadata": {},
   "source": [
    "Now we do the same thing but using a new feature of ROOT, the TF1NormSum class which allows to sum two function using its normalization. \n",
    "By doing this the number of signal events are a parameter of the fit"
   ]
  },
  {
   "cell_type": "code",
   "execution_count": 26,
   "metadata": {
    "collapsed": false
   },
   "outputs": [
    {
     "name": "stdout",
     "output_type": "stream",
     "text": []
    }
   ],
   "source": [
    "TF1NormSum fnorm(\"gaus+expo\",0,10);"
   ]
  },
  {
   "cell_type": "code",
   "execution_count": 27,
   "metadata": {
    "collapsed": false
   },
   "outputs": [
    {
     "name": "stdout",
     "output_type": "stream",
     "text": []
    }
   ],
   "source": [
    "fsum = new TF1(\"fsum\", fnorm, 0, 10, fnorm.GetNpar());"
   ]
  },
  {
   "cell_type": "code",
   "execution_count": 31,
   "metadata": {
    "collapsed": false
   },
   "outputs": [
    {
     "name": "stdout",
     "output_type": "stream",
     "text": []
    }
   ],
   "source": [
    "// first parameters are the number of events: signal (gaussian) and backgorund (exponential)\n",
    "fsum->SetParameter(0,100);\n",
    "fsum->SetParameter(1,1000);                   \n",
    "// shape parameters of first gaussian\n",
    "fsum->SetParameter(2,r1->Parameter(1));\n",
    "fsum->SetParameter(3,r1->Parameter(2));\n",
    "// shape parameters of the exponential \n",
    "fsum->SetParameter(4,r2->Parameter(1));\n",
    "fsum->SetParNames(\"Nsig\",\"Nbkg\",\"Mean\",\"Sigma\",\"Slope\");"
   ]
  },
  {
   "cell_type": "code",
   "execution_count": 29,
   "metadata": {
    "collapsed": false
   },
   "outputs": [
    {
     "data": {
      "image/png": "[encoded data removed]",
      "text/plain": [
       "<IPython.core.display.Image object>"
      ]
     },
     "metadata": {},
     "output_type": "display_data"
    },
    {
     "name": "stdout",
     "output_type": "stream",
     "text": []
    }
   ],
   "source": [
    "fsum->Draw(); gPad->Draw();"
   ]
  },
  {
   "cell_type": "code",
   "execution_count": 32,
   "metadata": {
    "collapsed": false
   },
   "outputs": [
    {
     "name": "stdout",
     "output_type": "stream",
     "text": [
      "\n",
      "****************************************\n",
      "Minimizer is Minuit2 / Migrad\n",
      "MinFCN                    =      39.0937\n",
      "Chi2                      =      84.4625\n",
      "NDf                       =           55\n",
      "Edm                       =  3.69108e-07\n",
      "NCalls                    =          380\n",
      "Nsig                      =      6.86788   +/-   1.05433     \n",
      "Nbkg                      =      535.955   +/-   31.4058     \n",
      "Mean                      =       3.0894   +/-   0.0101129   \n",
      "Sigma                     =    0.0597901   +/-   0.0111573   \n",
      "Slope                     =    -0.832107   +/-   0.0309828   \n"
     ]
    }
   ],
   "source": [
    "res = h1->Fit(fsum,\"L S\");"
   ]
  },
  {
   "cell_type": "code",
   "execution_count": null,
   "metadata": {
    "collapsed": false
   },
   "outputs": [],
   "source": [
    "gPad->Draw();"
   ]
  },
  {
   "cell_type": "code",
   "execution_count": 34,
   "metadata": {
    "collapsed": false
   },
   "outputs": [
    {
     "name": "stdout",
     "output_type": "stream",
     "text": [
      "Number of signal events = 137.358 +/- 21.0865\n"
     ]
    }
   ],
   "source": [
    "std::cout << \"Number of signal events = \" << res->Parameter(0)/h1->GetBinWidth(1) << \" +/- \" << res->Error(0)/h1->GetBinWidth(1) << std::endl;"
   ]
  }
 ],
 "metadata": {
  "kernelspec": {
   "display_name": "ROOT",
   "language": "c++",
   "name": "root"
  },
  "language_info": {
   "codemirror_mode": "text/x-c++src",
   "file_extension": ".C",
   "mimetype": " text/x-c++src",
   "name": "c++"
  }
 },
 "nbformat": 4,
 "nbformat_minor": 0
}
