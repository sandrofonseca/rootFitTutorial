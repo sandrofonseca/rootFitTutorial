{
 "cells": [
  {
   "cell_type": "code",
   "execution_count": 1,
   "metadata": {},
   "outputs": [
    {
     "name": "stdout",
     "output_type": "stream",
     "text": [
      "Welcome to JupyROOT 6.20/04\n"
     ]
    }
   ],
   "source": [
    "import ROOT"
   ]
  },
  {
   "cell_type": "markdown",
   "metadata": {},
   "source": [
    "pen the rootfile and get the workspace from the exercise_0"
   ]
  },
  {
   "cell_type": "code",
   "execution_count": 2,
   "metadata": {},
   "outputs": [
    {
     "name": "stdout",
     "output_type": "stream",
     "text": [
      "\n",
      "\u001b[1mRooFit v3.60 -- Developed by Wouter Verkerke and David Kirkby\u001b[0m \n",
      "                Copyright (C) 2000-2013 NIKHEF, University of California & Stanford University\n",
      "                All rights reserved, please read http://roofit.sourceforge.net/license.txt\n",
      "\n",
      "\n",
      "RooWorkspace(ws) ws contents\n",
      "\n",
      "variables\n",
      "---------\n",
      "(NJpsi,Nbkg,a1,a2,a3,alphaJpsi,cross_psi,eff_psi,lumi_psi,mass,meanJpsi,meanpsi2S,nJpsi,sigmaJpsi)\n",
      "\n",
      "p.d.f.s\n",
      "-------\n",
      "RooCBShape::CBJpsi[ m=mass m0=meanJpsi sigma=sigmaJpsi alpha=alphaJpsi n=nJpsi ] = 0.012173\n",
      "RooCBShape::CBpsi2S[ m=mass m0=meanpsi2S sigma=sigmaJpsi alpha=alphaJpsi n=nJpsi ] = 0.00289326\n",
      "RooChebychev::backgroundPDF[ x=mass coefList=(a1,a2,a3) ] = 1.35122\n",
      "RooAddPdf::totPDF[ NJpsi * CBJpsi + Npsi * CBpsi2S + Nbkg * backgroundPDF ] = 0.91405\n",
      "\n",
      "functions\n",
      "--------\n",
      "RooFormulaVar::Npsi[ actualVars=(eff_psi,lumi_psi,cross_psi) formula=\"x[0]*x[1]*x[2]\" ] = 5.72535\n",
      "\n",
      "datasets\n",
      "--------\n",
      "RooDataSet::data(mass)\n",
      "\n"
     ]
    }
   ],
   "source": [
    "fInput = ROOT.TFile(\"Workspace_mumufit.root\")\n",
    "ws = fInput.Get(\"ws\")\n",
    "ws.Print()"
   ]
  },
  {
   "cell_type": "markdown",
   "metadata": {},
   "source": [
    "ou can set constant parameters that are known<br>\n",
    "f you leave them floating, the fit procedure will determine their uncertainty"
   ]
  },
  {
   "cell_type": "code",
   "execution_count": 3,
   "metadata": {},
   "outputs": [],
   "source": [
    "ws.var(\"meanJpsi\").setConstant(1)"
   ]
  },
  {
   "cell_type": "markdown",
   "metadata": {},
   "source": [
    "et the RooModelConfig and let it know what the content of the workspace is about"
   ]
  },
  {
   "cell_type": "code",
   "execution_count": 4,
   "metadata": {},
   "outputs": [],
   "source": [
    "model = ROOT.RooStats.ModelConfig()\n",
    "model.SetWorkspace(ws)\n",
    "model.SetPdf(\"totPDF\")"
   ]
  },
  {
   "cell_type": "markdown",
   "metadata": {},
   "source": [
    "ere we explicitly set the value of the parameters for the null hypothesis<br>\n",
    "e want no signal contribution, so cross_psi = 0"
   ]
  },
  {
   "cell_type": "code",
   "execution_count": 5,
   "metadata": {},
   "outputs": [
    {
     "data": {
      "text/plain": [
       "False"
      ]
     },
     "execution_count": 5,
     "metadata": {},
     "output_type": "execute_result"
    }
   ],
   "source": [
    "cross_psi = ws.var(\"cross_psi\")\n",
    "poi = ROOT.RooArgSet(cross_psi)\n",
    "nullParams = poi.snapshot()\n",
    "nullParams.setRealValue(\"cross_psi\",0.)"
   ]
  },
  {
   "cell_type": "markdown",
   "metadata": {},
   "source": [
    "uild the profile likelihood calculator"
   ]
  },
  {
   "cell_type": "code",
   "execution_count": 7,
   "metadata": {},
   "outputs": [],
   "source": [
    "plc = ROOT.RooStats.ProfileLikelihoodCalculator(ws.data(\"data\"), model)\n",
    "plc.SetParameters(poi)\n",
    "plc.SetNullParameters(nullParams)"
   ]
  },
  {
   "cell_type": "markdown",
   "metadata": {},
   "source": [
    "e get a HypoTestResult out of the calculator, and we can query it."
   ]
  },
  {
   "cell_type": "code",
   "execution_count": 8,
   "metadata": {},
   "outputs": [
    {
     "name": "stdout",
     "output_type": "stream",
     "text": [
      "[#1] INFO:Minization -- p.d.f. provides expected number of events, including extended term in likelihood.\n",
      "[#1] INFO:Minization -- createNLL: caching constraint set under name CONSTR_OF_PDF_totPDF_FOR_OBS_mass with 0 entries\n",
      "[#0] PROGRESS:Minization -- ProfileLikelihoodCalcultor::DoGLobalFit - find MLE \n",
      "[#0] PROGRESS:Minization -- ProfileLikelihoodCalcultor::DoMinimizeNLL - using Minuit / Migrad with strategy 1\n",
      "[#1] INFO:Minization -- RooMinimizer::optimizeConst: activating const optimization\n",
      "[#1] INFO:Minization --  The following expressions will be evaluated in cache-and-track mode: (CBJpsi,CBpsi2S,backgroundPDF)\n",
      "[#1] INFO:Minization -- \n",
      "  RooFitResult: minimized FCN value: -2191.54, estimated distance to minimum: 7.27643e-06\n",
      "                covariance matrix quality: Full, accurate covariance matrix\n",
      "                Status : MINIMIZE=0 \n",
      "\n",
      "    Floating Parameter    FinalValue +/-  Error   \n",
      "  --------------------  --------------------------\n",
      "                 NJpsi    1.5763e+02 +/-  2.00e+01\n",
      "                  Nbkg    3.3666e+02 +/-  2.55e+01\n",
      "                    a1   -6.8780e-01 +/-  1.09e-01\n",
      "                    a2    2.8910e-01 +/-  8.62e-02\n",
      "                    a3    1.2051e-02 +/-  8.45e-02\n",
      "             alphaJpsi    1.6729e+00 +/-  3.23e-01\n",
      "             cross_psi    1.1941e+01 +/-  9.75e+00\n",
      "             meanpsi2S    3.6928e+00 +/-  2.46e-02\n",
      "                 nJpsi    1.2379e+00 +/-  8.11e-01\n",
      "             sigmaJpsi    3.2820e-02 +/-  2.99e-03\n",
      "\n",
      "[#0] PROGRESS:Minization -- ProfileLikelihoodCalcultor::GetHypoTest - do conditional fit \n",
      "[#0] PROGRESS:Minization -- ProfileLikelihoodCalcultor::DoMinimizeNLL - using Minuit / Migrad with strategy 1\n",
      "[#1] INFO:Minization -- RooMinimizer::optimizeConst: activating const optimization\n",
      "[#1] INFO:Minization -- \n",
      "  RooFitResult: minimized FCN value: -2190.62, estimated distance to minimum: 5.25225e-07\n",
      "                covariance matrix quality: Full, accurate covariance matrix\n",
      "                Status : MINIMIZE=0 \n",
      "\n",
      "    Floating Parameter    FinalValue +/-  Error   \n",
      "  --------------------  --------------------------\n",
      "                 NJpsi    1.5308e+02 +/-  1.73e+01\n",
      "                  Nbkg    3.4692e+02 +/-  2.26e+01\n",
      "                    a1   -6.8690e-01 +/-  9.25e-02\n",
      "                    a2    2.6361e-01 +/-  7.98e-02\n",
      "                    a3    3.7869e-02 +/-  7.61e-02\n",
      "             alphaJpsi    1.6594e+00 +/-  3.40e-01\n",
      "             meanpsi2S    3.6928e+00 +/-  4.16e-02\n",
      "                 nJpsi    1.4444e+00 +/-  1.03e+00\n",
      "             sigmaJpsi    3.2631e-02 +/-  3.02e-03\n",
      "\n"
     ]
    }
   ],
   "source": [
    "htr = plc.GetHypoTest()"
   ]
  },
  {
   "cell_type": "code",
   "execution_count": 9,
   "metadata": {},
   "outputs": [
    {
     "name": "stdout",
     "output_type": "stream",
     "text": [
      "-------------------------------------------------\n",
      "The p-value for the null is  0.08749068033623891\n",
      "Corresponding to a signifcance of  1.3563703547652992\n",
      "-------------------------------------------------\n"
     ]
    }
   ],
   "source": [
    "print (\"-------------------------------------------------\")\n",
    "print (\"The p-value for the null is \", htr.NullPValue())\n",
    "print (\"Corresponding to a signifcance of \", htr.Significance())\n",
    "print (\"-------------------------------------------------\")"
   ]
  },
  {
   "cell_type": "markdown",
   "metadata": {},
   "source": [
    "yROOT sometimes fails cleaning memory, this helps"
   ]
  },
  {
   "cell_type": "code",
   "execution_count": 10,
   "metadata": {},
   "outputs": [],
   "source": [
    "del plc"
   ]
  },
  {
   "cell_type": "code",
   "execution_count": null,
   "metadata": {},
   "outputs": [],
   "source": []
  }
 ],
 "metadata": {
  "kernelspec": {
   "display_name": "Python 3",
   "language": "python",
   "name": "python3"
  },
  "language_info": {
   "codemirror_mode": {
    "name": "ipython",
    "version": 3
   },
   "file_extension": ".py",
   "mimetype": "text/x-python",
   "name": "python",
   "nbconvert_exporter": "python",
   "pygments_lexer": "ipython3",
   "version": "3.8.2"
  }
 },
 "nbformat": 4,
 "nbformat_minor": 2
}
