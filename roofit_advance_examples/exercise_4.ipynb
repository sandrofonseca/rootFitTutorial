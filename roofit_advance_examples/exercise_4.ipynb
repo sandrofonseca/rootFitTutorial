{
 "cells": [
  {
   "cell_type": "code",
   "execution_count": 1,
   "metadata": {},
   "outputs": [
    {
     "name": "stdout",
     "output_type": "stream",
     "text": [
      "Welcome to JupyROOT 6.20/04\n"
     ]
    }
   ],
   "source": [
    "import ROOT"
   ]
  },
  {
   "cell_type": "markdown",
   "metadata": {},
   "source": [
    "pen the rootfile and get the workspace from the exercise_0"
   ]
  },
  {
   "cell_type": "code",
   "execution_count": 2,
   "metadata": {},
   "outputs": [
    {
     "name": "stdout",
     "output_type": "stream",
     "text": [
      "\n",
      "\u001b[1mRooFit v3.60 -- Developed by Wouter Verkerke and David Kirkby\u001b[0m \n",
      "                Copyright (C) 2000-2013 NIKHEF, University of California & Stanford University\n",
      "                All rights reserved, please read http://roofit.sourceforge.net/license.txt\n",
      "\n",
      "\n",
      "RooWorkspace(ws) ws contents\n",
      "\n",
      "variables\n",
      "---------\n",
      "(NJpsi,Nbkg,a1,a2,a3,alphaJpsi,cross_psi,eff_psi,lumi_psi,mass,meanJpsi,meanpsi2S,nJpsi,sigmaJpsi)\n",
      "\n",
      "p.d.f.s\n",
      "-------\n",
      "RooCBShape::CBJpsi[ m=mass m0=meanJpsi sigma=sigmaJpsi alpha=alphaJpsi n=nJpsi ] = 0.012173\n",
      "RooCBShape::CBpsi2S[ m=mass m0=meanpsi2S sigma=sigmaJpsi alpha=alphaJpsi n=nJpsi ] = 0.00289326\n",
      "RooChebychev::backgroundPDF[ x=mass coefList=(a1,a2,a3) ] = 1.35122\n",
      "RooAddPdf::totPDF[ NJpsi * CBJpsi + Npsi * CBpsi2S + Nbkg * backgroundPDF ] = 0.91405\n",
      "\n",
      "functions\n",
      "--------\n",
      "RooFormulaVar::Npsi[ actualVars=(eff_psi,lumi_psi,cross_psi) formula=\"x[0]*x[1]*x[2]\" ] = 5.72535\n",
      "\n",
      "datasets\n",
      "--------\n",
      "RooDataSet::data(mass)\n",
      "\n"
     ]
    }
   ],
   "source": [
    "fInput = ROOT.TFile(\"Workspace_mumufit.root\")\n",
    "ws = fInput.Get(\"ws\")\n",
    "ws.Print()"
   ]
  },
  {
   "cell_type": "markdown",
   "metadata": {},
   "source": [
    "ou can set constant parameters that are known<br>\n",
    "f you leave them floating, the fit procedure will determine their uncertainty"
   ]
  },
  {
   "cell_type": "code",
   "execution_count": 3,
   "metadata": {},
   "outputs": [],
   "source": [
    "ws.var(\"meanJpsi\").setConstant(1)\n",
    "ws.var(\"sigmaJpsi\").setConstant(1)\n",
    "ws.var(\"alphaJpsi\").setConstant(1)\n",
    "ws.var(\"nJpsi\").setConstant(1)\n",
    "ws.var(\"NJpsi\").setConstant(1)\n",
    "ws.var(\"meanpsi2S\").setConstant(1)\n",
    "ws.var(\"Nbkg\").setConstant(1)\n",
    "ws.var(\"a1\").setConstant(1)\n",
    "ws.var(\"a2\").setConstant(1)\n",
    "ws.var(\"a3\").setConstant(1)"
   ]
  },
  {
   "cell_type": "markdown",
   "metadata": {},
   "source": [
    "et the model know what is the parameter of interest"
   ]
  },
  {
   "cell_type": "code",
   "execution_count": 4,
   "metadata": {},
   "outputs": [],
   "source": [
    "cross_psi = ws.var(\"cross_psi\")\n",
    "cross_psi.setRange(4., 16.)  #this is mostly for plotting reasons\n",
    "poi = ROOT.RooArgSet(cross_psi)"
   ]
  },
  {
   "cell_type": "markdown",
   "metadata": {},
   "source": [
    "onfigure the model"
   ]
  },
  {
   "cell_type": "code",
   "execution_count": 5,
   "metadata": {},
   "outputs": [],
   "source": [
    "model = ROOT.RooStats.ModelConfig()\n",
    "model.SetWorkspace(ws)\n",
    "model.SetPdf(\"totPDF\")\n",
    "model.SetParametersOfInterest(poi)"
   ]
  },
  {
   "cell_type": "markdown",
   "metadata": {},
   "source": [
    "et confidence level"
   ]
  },
  {
   "cell_type": "code",
   "execution_count": 6,
   "metadata": {},
   "outputs": [],
   "source": [
    "confidenceLevel = 0.68"
   ]
  },
  {
   "cell_type": "markdown",
   "metadata": {},
   "source": [
    "uild the profile likelihood calculator"
   ]
  },
  {
   "cell_type": "code",
   "execution_count": 7,
   "metadata": {},
   "outputs": [],
   "source": [
    "plc = ROOT.RooStats.ProfileLikelihoodCalculator(ws.data(\"data\"), model)\n",
    "plc.SetParameters(poi)\n",
    "plc.SetConfidenceLevel(confidenceLevel)"
   ]
  },
  {
   "cell_type": "markdown",
   "metadata": {},
   "source": [
    "et the interval"
   ]
  },
  {
   "cell_type": "code",
   "execution_count": 8,
   "metadata": {},
   "outputs": [
    {
     "name": "stdout",
     "output_type": "stream",
     "text": [
      "[#1] INFO:Minization -- p.d.f. provides expected number of events, including extended term in likelihood.\n",
      "[#1] INFO:Minization -- createNLL: caching constraint set under name CONSTR_OF_PDF_totPDF_FOR_OBS_mass with 0 entries\n",
      "[#0] PROGRESS:Minization -- ProfileLikelihoodCalcultor::DoGLobalFit - find MLE \n",
      "[#0] PROGRESS:Minization -- ProfileLikelihoodCalcultor::DoMinimizeNLL - using Minuit / Migrad with strategy 1\n",
      "[#1] INFO:Minization -- RooMinimizer::optimizeConst: activating const optimization\n",
      "[#1] INFO:Minization --  The following expressions have been identified as constant and will be precalculated and cached: (CBJpsi,CBpsi2S,backgroundPDF)\n",
      "[#1] INFO:Minization -- \n",
      "  RooFitResult: minimized FCN value: -2191.54, estimated distance to minimum: 2.15568e-10\n",
      "                covariance matrix quality: Full, accurate covariance matrix\n",
      "                Status : MINIMIZE=0 \n",
      "\n",
      "    Floating Parameter    FinalValue +/-  Error   \n",
      "  --------------------  --------------------------\n",
      "             cross_psi    1.1907e+01 +/-  9.84e+00\n",
      "\n"
     ]
    }
   ],
   "source": [
    "pl_Interval = plc.GetInterval()"
   ]
  },
  {
   "cell_type": "markdown",
   "metadata": {},
   "source": [
    "ow let's determine the Bayesian probability interval<br>\n",
    "e could use the standard Bayesian Calculator, but this would be very slow for the integration<br>\n",
    "o we profit of the Markov-Chain MC capabilities of RooStats to speed things up"
   ]
  },
  {
   "cell_type": "code",
   "execution_count": 9,
   "metadata": {},
   "outputs": [],
   "source": [
    "mcmc = ROOT.RooStats.MCMCCalculator(ws.data(\"data\") , model)\n",
    "mcmc.SetConfidenceLevel(confidenceLevel)\n",
    "mcmc.SetNumIters(20000)           #Metropolis-Hastings algorithm iterations\n",
    "mcmc.SetNumBurnInSteps(100)       #first N steps to be ignored as burn-in\n",
    "mcmc.SetLeftSideTailFraction(0.5) #for central interval"
   ]
  },
  {
   "cell_type": "code",
   "execution_count": 10,
   "metadata": {},
   "outputs": [
    {
     "name": "stdout",
     "output_type": "stream",
     "text": [
      "[#1] INFO:Minization -- p.d.f. provides expected number of events, including extended term in likelihood.\n",
      "[#1] INFO:Minization -- createNLL picked up cached consraints from workspace with 0 entries\n",
      "Metropolis-Hastings progress: ....................................................................................................\n",
      "[#1] INFO:Eval -- Proposal acceptance rate: 94.485%\n",
      "[#1] INFO:Eval -- Number of steps in chain: 18897\n"
     ]
    }
   ],
   "source": [
    "MCMC_interval = mcmc.GetInterval()"
   ]
  },
  {
   "cell_type": "markdown",
   "metadata": {},
   "source": [
    "et's make a plot"
   ]
  },
  {
   "cell_type": "code",
   "execution_count": 11,
   "metadata": {},
   "outputs": [],
   "source": [
    "dataCanvas = ROOT.TCanvas(\"dataCanvas\")\n",
    "dataCanvas.Divide(2,1)"
   ]
  },
  {
   "cell_type": "code",
   "execution_count": 12,
   "metadata": {},
   "outputs": [
    {
     "name": "stdout",
     "output_type": "stream",
     "text": [
      "[#1] INFO:Minization -- RooProfileLL::evaluate(nll_totPDF_data_Profile[cross_psi]) Creating instance of MINUIT\n",
      "[#1] INFO:Minization -- RooProfileLL::evaluate(nll_totPDF_data_Profile[cross_psi]) determining minimum likelihood for current configurations w.r.t all observable\n",
      "[#1] INFO:Minization -- RooProfileLL::evaluate(nll_totPDF_data_Profile[cross_psi]) minimum found at (cross_psi=11.907)\n",
      ".Warning: lower value for cross_psi is at limit 4\n",
      "Warning: upper value for cross_psi is at limit 0\n",
      "\n",
      "[#1] INFO:Minization -- RooProfileLL::evaluate(nll_totPDF_data_Profile[cross_psi]) Creating instance of MINUIT\n",
      "[#1] INFO:Minization -- RooProfileLL::evaluate(nll_totPDF_data_Profile[cross_psi]) determining minimum likelihood for current configurations w.r.t all observable\n",
      "[#0] ERROR:InputArguments -- RooArgSet::checkForDup: ERROR argument with name cross_psi is already in this set\n",
      "[#1] INFO:Minization -- RooProfileLL::evaluate(nll_totPDF_data_Profile[cross_psi]) minimum found at (cross_psi=11.907)\n",
      ".........................................................................................................................................................................................................."
     ]
    }
   ],
   "source": [
    "dataCanvas.cd(1)\n",
    "plot_Interval = ROOT.RooStats.LikelihoodIntervalPlot(pl_Interval)\n",
    "plot_Interval.SetTitle(\"Profile Likelihood Ratio\")\n",
    "plot_Interval.SetMaximum(3.)\n",
    "plot_Interval.Draw()"
   ]
  },
  {
   "cell_type": "code",
   "execution_count": 15,
   "metadata": {},
   "outputs": [
    {
     "data": {
      "image/png": "[encoded data removed]",
      "text/plain": [
       "<IPython.core.display.Image object>"
      ]
     },
     "metadata": {},
     "output_type": "display_data"
    }
   ],
   "source": [
    "dataCanvas.cd(2)\n",
    "plot_MCMC = ROOT.RooStats.MCMCIntervalPlot(MCMC_interval)\n",
    "plot_MCMC.SetTitle(\"Bayesian probability interval (Markov Chain)\")\n",
    "plot_MCMC.Draw()\n",
    "dataCanvas.Draw()"
   ]
  },
  {
   "cell_type": "code",
   "execution_count": 16,
   "metadata": {},
   "outputs": [
    {
     "name": "stderr",
     "output_type": "stream",
     "text": [
      "Info in <TCanvas::Print>: png file exercise_4.png has been created\n"
     ]
    }
   ],
   "source": [
    "dataCanvas.SaveAs(\"exercise_4.png\")"
   ]
  },
  {
   "cell_type": "markdown",
   "metadata": {},
   "source": [
    "ow print the interval for mH for the two methods"
   ]
  },
  {
   "cell_type": "code",
   "execution_count": 17,
   "metadata": {},
   "outputs": [
    {
     "name": "stdout",
     "output_type": "stream",
     "text": [
      "PLC interval is [ 4.0 ,  16.0 ]\n"
     ]
    }
   ],
   "source": [
    "print (\"PLC interval is [\", pl_Interval.LowerLimit(cross_psi), \", \", pl_Interval.UpperLimit(cross_psi), \"]\")"
   ]
  },
  {
   "cell_type": "code",
   "execution_count": 18,
   "metadata": {},
   "outputs": [
    {
     "name": "stdout",
     "output_type": "stream",
     "text": [
      "Bayesian interval is [ 6.358504608273506 ,  14.198942668735981 ]\n"
     ]
    }
   ],
   "source": [
    "print (\"Bayesian interval is [\", MCMC_interval.LowerLimit(cross_psi), \", \", MCMC_interval.UpperLimit(cross_psi), \"]\")"
   ]
  },
  {
   "cell_type": "markdown",
   "metadata": {},
   "source": [
    "yROOT sometimes fails cleaning memory, this helps"
   ]
  },
  {
   "cell_type": "code",
   "execution_count": 19,
   "metadata": {},
   "outputs": [],
   "source": [
    "del plc"
   ]
  },
  {
   "cell_type": "code",
   "execution_count": null,
   "metadata": {},
   "outputs": [],
   "source": []
  }
 ],
 "metadata": {
  "kernelspec": {
   "display_name": "Python 3",
   "language": "python",
   "name": "python3"
  },
  "language_info": {
   "codemirror_mode": {
    "name": "ipython",
    "version": 3
   },
   "file_extension": ".py",
   "mimetype": "text/x-python",
   "name": "python",
   "nbconvert_exporter": "python",
   "pygments_lexer": "ipython3",
   "version": "3.8.2"
  }
 },
 "nbformat": 4,
 "nbformat_minor": 2
}
