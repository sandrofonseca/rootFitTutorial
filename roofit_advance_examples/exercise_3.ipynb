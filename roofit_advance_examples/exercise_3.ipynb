{
 "cells": [
  {
   "cell_type": "code",
   "execution_count": 1,
   "metadata": {},
   "outputs": [
    {
     "name": "stdout",
     "output_type": "stream",
     "text": [
      "Welcome to JupyROOT 6.20/04\n"
     ]
    }
   ],
   "source": [
    "import ROOT"
   ]
  },
  {
   "cell_type": "markdown",
   "metadata": {},
   "source": [
    "pen the rootfile and get the workspace from the exercise_0"
   ]
  },
  {
   "cell_type": "code",
   "execution_count": 2,
   "metadata": {},
   "outputs": [
    {
     "name": "stdout",
     "output_type": "stream",
     "text": [
      "\n",
      "\u001b[1mRooFit v3.60 -- Developed by Wouter Verkerke and David Kirkby\u001b[0m \n",
      "                Copyright (C) 2000-2013 NIKHEF, University of California & Stanford University\n",
      "                All rights reserved, please read http://roofit.sourceforge.net/license.txt\n",
      "\n",
      "\n",
      "RooWorkspace(ws) ws contents\n",
      "\n",
      "variables\n",
      "---------\n",
      "(NJpsi,Nbkg,a1,a2,a3,alphaJpsi,cross_psi,eff_psi,lumi_psi,mass,meanJpsi,meanpsi2S,nJpsi,sigmaJpsi)\n",
      "\n",
      "p.d.f.s\n",
      "-------\n",
      "RooCBShape::CBJpsi[ m=mass m0=meanJpsi sigma=sigmaJpsi alpha=alphaJpsi n=nJpsi ] = 0.012173\n",
      "RooCBShape::CBpsi2S[ m=mass m0=meanpsi2S sigma=sigmaJpsi alpha=alphaJpsi n=nJpsi ] = 0.00289326\n",
      "RooChebychev::backgroundPDF[ x=mass coefList=(a1,a2,a3) ] = 1.35122\n",
      "RooAddPdf::totPDF[ NJpsi * CBJpsi + Npsi * CBpsi2S + Nbkg * backgroundPDF ] = 0.91405\n",
      "\n",
      "functions\n",
      "--------\n",
      "RooFormulaVar::Npsi[ actualVars=(eff_psi,lumi_psi,cross_psi) formula=\"x[0]*x[1]*x[2]\" ] = 5.72535\n",
      "\n",
      "datasets\n",
      "--------\n",
      "RooDataSet::data(mass)\n",
      "\n"
     ]
    }
   ],
   "source": [
    "fInput = ROOT.TFile(\"Workspace_mumufit.root\")\n",
    "ws = fInput.Get(\"ws\")\n",
    "ws.Print()"
   ]
  },
  {
   "cell_type": "markdown",
   "metadata": {},
   "source": [
    "ou can set constant parameters that are known<br>\n",
    "f you leave them floating, the fit procedure will determine their uncertainty<br>\n",
    "ight now we will fix all the nuisance parameters just to speed up the computing time"
   ]
  },
  {
   "cell_type": "code",
   "execution_count": 3,
   "metadata": {},
   "outputs": [],
   "source": [
    "ws.var(\"meanJpsi\").setConstant(1)\n",
    "ws.var(\"sigmaJpsi\").setConstant(1)\n",
    "ws.var(\"alphaJpsi\").setConstant(1)\n",
    "ws.var(\"nJpsi\").setConstant(1)\n",
    "ws.var(\"NJpsi\").setConstant(1)\n",
    "ws.var(\"meanpsi2S\").setConstant(1)\n",
    "ws.var(\"Nbkg\").setConstant(1)\n",
    "ws.var(\"a1\").setConstant(1)\n",
    "ws.var(\"a2\").setConstant(1)\n",
    "ws.var(\"a3\").setConstant(1)"
   ]
  },
  {
   "cell_type": "markdown",
   "metadata": {},
   "source": [
    "onfigure the model, we need both the S+B and the B only models"
   ]
  },
  {
   "cell_type": "code",
   "execution_count": 4,
   "metadata": {},
   "outputs": [],
   "source": [
    "sbModel = ROOT.RooStats.ModelConfig()\n",
    "sbModel.SetWorkspace(ws)\n",
    "sbModel.SetPdf(\"totPDF\")\n",
    "sbModel.SetName(\"S+B Model\")\n",
    "poi = ROOT.RooArgSet(ws.var(\"cross_psi\"))\n",
    "poi.find(\"cross_psi\").setRange(0.,40.)  #this is mostly for plotting\n",
    "sbModel.SetParametersOfInterest(poi)"
   ]
  },
  {
   "cell_type": "code",
   "execution_count": 5,
   "metadata": {},
   "outputs": [],
   "source": [
    "bModel = sbModel.Clone()\n",
    "bModel.SetPdf(\"totPDF\")\n",
    "bModel.SetName( sbModel.GetName() + \"_with_poi_0\")\n",
    "poi.find(\"cross_psi\").setVal(0)\n",
    "bModel.SetSnapshot(poi)"
   ]
  },
  {
   "cell_type": "markdown",
   "metadata": {},
   "source": [
    "irst example is with a frequentist approach"
   ]
  },
  {
   "cell_type": "code",
   "execution_count": 6,
   "metadata": {},
   "outputs": [],
   "source": [
    "fc = ROOT.RooStats.FrequentistCalculator(ws.data(\"data\"), bModel, sbModel)\n",
    "fc.SetToys(2500,1500)"
   ]
  },
  {
   "cell_type": "markdown",
   "metadata": {},
   "source": [
    "reate hypotest inverter passing the desired calculator "
   ]
  },
  {
   "cell_type": "code",
   "execution_count": 7,
   "metadata": {},
   "outputs": [
    {
     "name": "stdout",
     "output_type": "stream",
     "text": [
      "[#1] INFO:InputArguments -- HypoTestInverter ---- Input models: \n",
      "\t\t using as S+B (null) model     : S+B Model\n",
      "\t\t using as B (alternate) model  : S+B Model_with_poi_0\n",
      "\n",
      "[#0] ERROR:InputArguments -- HypoTestInverter - B model has no pdf or observables defined\n"
     ]
    }
   ],
   "source": [
    "calc = ROOT.RooStats.HypoTestInverter(fc)"
   ]
  },
  {
   "cell_type": "markdown",
   "metadata": {},
   "source": [
    "et confidence level (e.g. 95% upper limits)"
   ]
  },
  {
   "cell_type": "code",
   "execution_count": 8,
   "metadata": {},
   "outputs": [],
   "source": [
    "calc.SetConfidenceLevel(0.95)"
   ]
  },
  {
   "cell_type": "markdown",
   "metadata": {},
   "source": [
    "se CLs"
   ]
  },
  {
   "cell_type": "code",
   "execution_count": 9,
   "metadata": {},
   "outputs": [],
   "source": [
    "calc.UseCLs(1)"
   ]
  },
  {
   "cell_type": "markdown",
   "metadata": {},
   "source": [
    "educe the noise"
   ]
  },
  {
   "cell_type": "code",
   "execution_count": 10,
   "metadata": {},
   "outputs": [],
   "source": [
    "calc.SetVerbose(0)"
   ]
  },
  {
   "cell_type": "markdown",
   "metadata": {},
   "source": [
    "onfigure ToyMC Samler"
   ]
  },
  {
   "cell_type": "code",
   "execution_count": 11,
   "metadata": {},
   "outputs": [],
   "source": [
    "toymcs = calc.GetHypoTestCalculator().GetTestStatSampler()"
   ]
  },
  {
   "cell_type": "markdown",
   "metadata": {},
   "source": [
    "se profile likelihood as test statistics "
   ]
  },
  {
   "cell_type": "code",
   "execution_count": 12,
   "metadata": {},
   "outputs": [],
   "source": [
    "profll = ROOT.RooStats.ProfileLikelihoodTestStat(sbModel.GetPdf())"
   ]
  },
  {
   "cell_type": "markdown",
   "metadata": {},
   "source": [
    "or CLs (bounded intervals) use one-sided profile likelihood"
   ]
  },
  {
   "cell_type": "code",
   "execution_count": 13,
   "metadata": {},
   "outputs": [],
   "source": [
    "profll.SetOneSided(1)"
   ]
  },
  {
   "cell_type": "markdown",
   "metadata": {},
   "source": [
    "et the test statistic to use for toys"
   ]
  },
  {
   "cell_type": "code",
   "execution_count": 14,
   "metadata": {},
   "outputs": [],
   "source": [
    "toymcs.SetTestStatistic(profll)"
   ]
  },
  {
   "cell_type": "code",
   "execution_count": 15,
   "metadata": {},
   "outputs": [],
   "source": [
    "npoints = 8 #Number of points to scan\n",
    "# min and max for the scan (better to choose smaller intervals)\n",
    "poimin = poi.find(\"cross_psi\").getMin()\n",
    "poimax = poi.find(\"cross_psi\").getMax()"
   ]
  },
  {
   "cell_type": "code",
   "execution_count": 16,
   "metadata": {},
   "outputs": [
    {
     "name": "stdout",
     "output_type": "stream",
     "text": [
      "Doing a fixed scan  in interval :  0.0  ,  40.0\n"
     ]
    }
   ],
   "source": [
    "print (\"Doing a fixed scan  in interval : \", poimin, \" , \", poimax)\n",
    "calc.SetFixedScan(npoints,poimin,poimax);"
   ]
  },
  {
   "cell_type": "code",
   "execution_count": null,
   "metadata": {},
   "outputs": [],
   "source": [
    "result = calc.GetInterval() #This is a HypoTestInveter class object\n",
    "upperLimit = result.UpperLimit()"
   ]
  },
  {
   "cell_type": "markdown",
   "metadata": {},
   "source": [
    "xample using the BayesianCalculator<br>\n",
    "ow we also need to specify a prior in the ModelConfig<br>\n",
    "o be quicker, we'll use the PDF factory facility of RooWorkspace<br>\n",
    "areful! For simplicity, we are using a flat prior, but this doesn't mean it's the best choice!"
   ]
  },
  {
   "cell_type": "code",
   "execution_count": null,
   "metadata": {},
   "outputs": [],
   "source": [
    "ws.factory(\"Uniform::prior(cross_psi)\")\n",
    "sbModel.SetPriorPdf(ws.pdf(\"prior\"))"
   ]
  },
  {
   "cell_type": "markdown",
   "metadata": {},
   "source": [
    "onstruct the bayesian calculator"
   ]
  },
  {
   "cell_type": "code",
   "execution_count": null,
   "metadata": {},
   "outputs": [],
   "source": [
    "bc = ROOT.RooStats.BayesianCalculator(ws.data(\"data\"), sbModel)\n",
    "bc.SetConfidenceLevel(0.95)\n",
    "bc.SetLeftSideTailFraction(0.) # for upper limit"
   ]
  },
  {
   "cell_type": "code",
   "execution_count": null,
   "metadata": {},
   "outputs": [],
   "source": [
    "bcInterval = bc.GetInterval()"
   ]
  },
  {
   "cell_type": "markdown",
   "metadata": {},
   "source": [
    "ow let's print the result of the two methods<br>\n",
    "irst the CLs"
   ]
  },
  {
   "cell_type": "code",
   "execution_count": null,
   "metadata": {},
   "outputs": [],
   "source": [
    "print (\"################\")\n",
    "print (\"The observed CLs upper limit is: \", upperLimit)"
   ]
  },
  {
   "cell_type": "markdown",
   "metadata": {},
   "source": [
    "ompute expected limit"
   ]
  },
  {
   "cell_type": "code",
   "execution_count": null,
   "metadata": {},
   "outputs": [],
   "source": [
    "print (\"Expected upper limits, using the B (alternate) model : \")\n",
    "print (\" expected limit (median) \", result.GetExpectedUpperLimit(0))\n",
    "print (\" expected limit (-1 sig) \", result.GetExpectedUpperLimit(-1))\n",
    "print (\" expected limit (+1 sig) \", result.GetExpectedUpperLimit(1))\n",
    "print (\"################\")"
   ]
  },
  {
   "cell_type": "markdown",
   "metadata": {},
   "source": [
    "ow let's see what the bayesian limit is"
   ]
  },
  {
   "cell_type": "code",
   "execution_count": null,
   "metadata": {},
   "outputs": [],
   "source": [
    "print (\"Bayesian upper limit on cross_psi = \", bcInterval.UpperLimit())"
   ]
  },
  {
   "cell_type": "markdown",
   "metadata": {},
   "source": [
    "lot now the result of the scan "
   ]
  },
  {
   "cell_type": "markdown",
   "metadata": {},
   "source": [
    "irst the CLs"
   ]
  },
  {
   "cell_type": "code",
   "execution_count": null,
   "metadata": {},
   "outputs": [],
   "source": [
    "freq_plot = ROOT.RooStats.HypoTestInverterPlot(\"HTI_Result_Plot\",\"Frequentist scan result for psi xsec\",result)\n",
    "#Then the Bayesian posterior\n",
    "bc_plot = bc.GetPosteriorPlot()"
   ]
  },
  {
   "cell_type": "markdown",
   "metadata": {},
   "source": [
    "lot in a new canvas with style"
   ]
  },
  {
   "cell_type": "code",
   "execution_count": null,
   "metadata": {},
   "outputs": [],
   "source": [
    "dataCanvas = ROOT.TCanvas(\"dataCanvas\")\n",
    "dataCanvas.Divide(2,1)\n",
    "dataCanvas.SetLogy(0)\n",
    "dataCanvas.cd(1)\n",
    "freq_plot.Draw(\"2CL\")\n",
    "dataCanvas.cd(2)\n",
    "bc_plot.Draw()\n",
    "dataCanvas.SaveAs(\"exercise_3.png\")\n",
    "dataCanvas.Draw()"
   ]
  },
  {
   "cell_type": "code",
   "execution_count": null,
   "metadata": {},
   "outputs": [],
   "source": []
  }
 ],
 "metadata": {
  "kernelspec": {
   "display_name": "Python 3",
   "language": "python",
   "name": "python3"
  },
  "language_info": {
   "codemirror_mode": {
    "name": "ipython",
    "version": 3
   },
   "file_extension": ".py",
   "mimetype": "text/x-python",
   "name": "python",
   "nbconvert_exporter": "python",
   "pygments_lexer": "ipython3",
   "version": "3.8.2"
  }
 },
 "nbformat": 4,
 "nbformat_minor": 2
}
