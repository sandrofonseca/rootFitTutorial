{
 "cells": [
  {
   "cell_type": "markdown",
   "metadata": {},
   "source": [
    "mport the ROOT libraries"
   ]
  },
  {
   "cell_type": "code",
   "execution_count": 1,
   "metadata": {},
   "outputs": [
    {
     "name": "stdout",
     "output_type": "stream",
     "text": [
      "Welcome to JupyROOT 6.20/04\n"
     ]
    }
   ],
   "source": [
    "import ROOT"
   ]
  },
  {
   "cell_type": "code",
   "execution_count": 2,
   "metadata": {},
   "outputs": [
    {
     "name": "stdout",
     "output_type": "stream",
     "text": [
      "\n",
      "\u001b[1mRooFit v3.60 -- Developed by Wouter Verkerke and David Kirkby\u001b[0m \n",
      "                Copyright (C) 2000-2013 NIKHEF, University of California & Stanford University\n",
      "                All rights reserved, please read http://roofit.sourceforge.net/license.txt\n",
      "\n"
     ]
    }
   ],
   "source": [
    "fInput = ROOT.TFile(\"DataSet_lowstat.root\")\n",
    "#fInput = ROOT.TFile(\"DataSet.root\")\n",
    "dataset = fInput.Get(\"data\")"
   ]
  },
  {
   "cell_type": "markdown",
   "metadata": {},
   "source": [
    "he observable"
   ]
  },
  {
   "cell_type": "code",
   "execution_count": 3,
   "metadata": {},
   "outputs": [],
   "source": [
    "mass = ROOT.RooRealVar(\"mass\",\"#mu^{+}#mu^{-} invariant mass\",2.,6.,\"GeV\")"
   ]
  },
  {
   "cell_type": "markdown",
   "metadata": {},
   "source": [
    "he Jpsi signal parametrization: we'll use a Crystal Ball"
   ]
  },
  {
   "cell_type": "code",
   "execution_count": 4,
   "metadata": {},
   "outputs": [],
   "source": [
    "meanJpsi = ROOT.RooRealVar(\"meanJpsi\",\"The mean of the Jpsi Crystal Ball\",3.1,2.8,3.2)\n",
    "sigmaJpsi = ROOT.RooRealVar(\"sigmaJpsi\",\"The width of the Jpsi Crystal Ball\",0.3,0.0001,1.)\n",
    "alphaJpsi = ROOT.RooRealVar(\"alphaJpsi\",\"The alpha of the Jpsi Crystal Ball\",1.5,-5.,5.)\n",
    "nJpsi = ROOT.RooRealVar(\"nJpsi\",\"The alpha of the Jpsi Crystal Ball\",1.5,0.5,5.)"
   ]
  },
  {
   "cell_type": "code",
   "execution_count": 5,
   "metadata": {},
   "outputs": [],
   "source": [
    "CBJpsi = ROOT.RooCBShape(\"CBJpsi\",\"The Jpsi Crystall Ball\",mass,meanJpsi,sigmaJpsi,alphaJpsi,nJpsi)"
   ]
  },
  {
   "cell_type": "markdown",
   "metadata": {},
   "source": [
    "he psi(2S) signal parametrization: width will be similar to Jpsi, but with shifted mass"
   ]
  },
  {
   "cell_type": "code",
   "execution_count": 6,
   "metadata": {},
   "outputs": [],
   "source": [
    "meanpsi2S = ROOT.RooRealVar(\"meanpsi2S\",\"The mean of the psi(2S) Crystal Ball\",3.7,3.65,3.75)\n",
    "CBpsi2S = ROOT.RooCBShape(\"CBpsi2S\",\"The psi(2S) Crystal Ball\",mass,meanpsi2S,sigmaJpsi,alphaJpsi,nJpsi)"
   ]
  },
  {
   "cell_type": "markdown",
   "metadata": {},
   "source": [
    "ackground parametrization: just a polynomial"
   ]
  },
  {
   "cell_type": "code",
   "execution_count": 7,
   "metadata": {},
   "outputs": [],
   "source": [
    "a1 = ROOT.RooRealVar(\"a1\",\"The a1 of background\",-0.7,-2.,2.)\n",
    "a2 = ROOT.RooRealVar(\"a2\",\"The a2 of background\",0.3,-2.,2.)\n",
    "a3 = ROOT.RooRealVar(\"a3\",\"The a3 of background\",-0.03,-2.,2.)\n",
    "backgroundPDF = ROOT.RooChebychev(\"backgroundPDF\",\"The background PDF\",mass,ROOT.RooArgList(a1,a2,a3))"
   ]
  },
  {
   "cell_type": "markdown",
   "metadata": {},
   "source": [
    "efine the yields"
   ]
  },
  {
   "cell_type": "code",
   "execution_count": 8,
   "metadata": {},
   "outputs": [],
   "source": [
    "NJpsi = ROOT.RooRealVar(\"NJpsi\",\"The Jpsi signal events\",1500.,0.1,10000.)\n",
    "Nbkg = ROOT.RooRealVar(\"Nbkg\",\"The bkg events\",5000.,0.1,50000.)"
   ]
  },
  {
   "cell_type": "markdown",
   "metadata": {},
   "source": [
    "ow define the number of psi(2S) events as a product of crss section*efficiency*luminosity (in pb)<br>\n",
    "et's assume we measured the trigger, reconstruction and identification efficiency for dimuons and found it to be 95%<br>\n",
    "owstat sample has 0.64 pb-1<br>\n",
    "ullstat sample has 37 pb-1"
   ]
  },
  {
   "cell_type": "code",
   "execution_count": 9,
   "metadata": {},
   "outputs": [],
   "source": [
    "eff_psi = ROOT.RooRealVar(\"eff_psi\",\"The psi efficiency\",0.75,0.00001,1.)\n",
    "lumi_psi  = ROOT.RooRealVar(\"lumi_psi\",\"The CMS luminosity\",0.64,0.00001,50.,\"pb-1\")\n",
    "cross_psi = ROOT.RooRealVar(\"cross_psi\",\"The psi xsec\",3.,0.,40.,\"pb\")"
   ]
  },
  {
   "cell_type": "markdown",
   "metadata": {},
   "source": [
    "ow define the number of psi events"
   ]
  },
  {
   "cell_type": "code",
   "execution_count": 10,
   "metadata": {},
   "outputs": [],
   "source": [
    "Npsi = ROOT.RooFormulaVar(\"Npsi\",\"@0*@1*@2\",ROOT.RooArgList(eff_psi,lumi_psi,cross_psi))"
   ]
  },
  {
   "cell_type": "markdown",
   "metadata": {},
   "source": [
    "mportant! We cannot fit simultaneously the efficiency, the luminosity and the cross section (our total PDF is only sensitive on the product of the three)<br>\n",
    "e need to fix two of them, so we'll keep our POI floating<br>\n",
    "ne can also add an additional PDF to give predictive power on the other two parameters (later)"
   ]
  },
  {
   "cell_type": "code",
   "execution_count": 11,
   "metadata": {},
   "outputs": [],
   "source": [
    "eff_psi.setConstant(1)\n",
    "lumi_psi.setConstant(1)"
   ]
  },
  {
   "cell_type": "markdown",
   "metadata": {},
   "source": [
    "ompose the total PDF"
   ]
  },
  {
   "cell_type": "code",
   "execution_count": 12,
   "metadata": {},
   "outputs": [],
   "source": [
    "totPDF = ROOT.RooAddPdf(\"totPDF\",\"The total PDF\",ROOT.RooArgList(CBJpsi,CBpsi2S,backgroundPDF),ROOT.RooArgList(NJpsi,Npsi,Nbkg))"
   ]
  },
  {
   "cell_type": "markdown",
   "metadata": {},
   "source": [
    "o the actual fit"
   ]
  },
  {
   "cell_type": "code",
   "execution_count": 13,
   "metadata": {},
   "outputs": [
    {
     "data": {
      "text/plain": [
       "<ROOT.RooFitResult object at 0x0>"
      ]
     },
     "execution_count": 13,
     "metadata": {},
     "output_type": "execute_result"
    },
    {
     "name": "stdout",
     "output_type": "stream",
     "text": [
      "[#1] INFO:Minization -- RooMinimizer::optimizeConst: activating const optimization\n",
      "[#1] INFO:Minization --  The following expressions will be evaluated in cache-and-track mode: (CBJpsi,CBpsi2S,backgroundPDF)\n",
      " **********\n",
      " **    1 **SET PRINT           1\n",
      " **********\n",
      " **********\n",
      " **    2 **SET NOGRAD\n",
      " **********\n",
      " PARAMETER DEFINITIONS:\n",
      "    NO.   NAME         VALUE      STEP SIZE      LIMITS\n",
      "     1 NJpsi        1.50000e+03  7.49950e+02    1.00000e-01  1.00000e+04\n",
      "     2 Nbkg         5.00000e+03  2.49995e+03    1.00000e-01  5.00000e+04\n",
      "     3 a1          -7.00000e-01  4.00000e-01   -2.00000e+00  2.00000e+00\n",
      "     4 a2           3.00000e-01  4.00000e-01   -2.00000e+00  2.00000e+00\n",
      "     5 a3          -3.00000e-02  4.00000e-01   -2.00000e+00  2.00000e+00\n",
      "     6 alphaJpsi    1.50000e+00  1.00000e+00   -5.00000e+00  5.00000e+00\n",
      "     7 cross_psi    3.00000e+00  1.50000e+00    0.00000e+00  4.00000e+01\n",
      "     8 meanJpsi     3.10000e+00  4.00000e-02    2.80000e+00  3.20000e+00\n",
      "     9 meanpsi2S    3.70000e+00  1.00000e-02    3.65000e+00  3.75000e+00\n",
      "    10 nJpsi        1.50000e+00  4.50000e-01    5.00000e-01  5.00000e+00\n",
      "    11 sigmaJpsi    3.00000e-01  9.99900e-02    1.00000e-04  1.00000e+00\n",
      " **********\n",
      " **    3 **SET ERR         0.5\n",
      " **********\n",
      " **********\n",
      " **    4 **SET PRINT           1\n",
      " **********\n",
      " **********\n",
      " **    5 **SET STR           1\n",
      " **********\n",
      " NOW USING STRATEGY  1: TRY TO BALANCE SPEED AGAINST RELIABILITY\n",
      " **********\n",
      " **    6 **MIGRAD        5500           1\n",
      " **********\n",
      " FIRST CALL TO USER FUNCTION AT NEW START POINT, WITH IFLAG=4.\n",
      " START MIGRAD MINIMIZATION.  STRATEGY  1.  CONVERGENCE WHEN EDM .LT. 1.00e-03\n",
      " FCN=2565.14 FROM MIGRAD    STATUS=INITIATE      136 CALLS         137 TOTAL\n",
      "                     EDM= unknown      STRATEGY= 1      NO ERROR MATRIX       \n",
      "  EXT PARAMETER               CURRENT GUESS       STEP         FIRST   \n",
      "  NO.   NAME      VALUE            ERROR          SIZE      DERIVATIVE \n",
      "   1  NJpsi        1.50000e+03   7.49950e+02   0.00000e+00   3.28108e+03\n",
      "   2  Nbkg         5.00000e+03   2.49995e+03   0.00000e+00   1.38653e+04\n",
      "   3  a1          -7.00000e-01   4.00000e-01   0.00000e+00   3.61973e+01\n",
      "   4  a2           3.00000e-01   4.00000e-01   0.00000e+00   1.30598e+01\n",
      "   5  a3          -3.00000e-02   4.00000e-01   0.00000e+00  -8.36182e+01\n",
      "   6  alphaJpsi    1.50000e+00   1.00000e+00   0.00000e+00   1.08076e+02\n",
      "   7  cross_psi    3.00000e+00   1.50000e+00   0.00000e+00   4.43189e+00\n",
      "   8  meanJpsi     3.10000e+00   4.00000e-02   0.00000e+00   1.36111e+02\n",
      "   9  meanpsi2S    3.66121e+00   1.00000e-02  -6.74023e-01  -3.65691e-02\n",
      "  10  nJpsi        1.50000e+00   4.50000e-01   0.00000e+00   9.15559e+00\n",
      "  11  sigmaJpsi    1.37229e-02   9.99900e-02   0.00000e+00   5.26880e+02\n",
      "                               ERR DEF= 0.5\n",
      " MIGRAD MINIMIZATION HAS CONVERGED.\n",
      " FCN=-2191.54 FROM MIGRAD    STATUS=CONVERGED     754 CALLS         755 TOTAL\n",
      "                     EDM=6.12943e-05    STRATEGY= 1  ERROR MATRIX UNCERTAINTY   2.8 per cent\n",
      "  EXT PARAMETER                                   STEP         FIRST   \n",
      "  NO.   NAME      VALUE            ERROR          SIZE      DERIVATIVE \n",
      "   1  NJpsi        1.57496e+02   2.06557e+01   3.47645e-06  -1.81421e-01\n",
      "   2  Nbkg         3.36845e+02   2.69270e+01  -4.09455e-05   1.04891e+00\n",
      "   3  a1          -6.87501e-01   1.12480e-01  -1.10630e-03   1.04310e-01\n",
      "   4  a2           2.89156e-01   8.81828e-02   6.42372e-04   1.54510e-02\n",
      "   5  a3           1.22959e-02   8.36972e-02  -1.22360e-03  -4.07162e-02\n",
      "   6  alphaJpsi    1.67252e+00   3.51963e-01  -2.85839e-03   1.10528e-02\n",
      "   7  cross_psi    1.19278e+01   1.02125e+01   3.49667e-03   4.52225e-03\n",
      "   8  meanJpsi     3.09353e+00   3.28574e-03  -3.18031e-05   1.08400e-01\n",
      "   9  meanpsi2S    3.69287e+00   2.77635e-02  -1.07548e-03  -1.24507e-03\n",
      "  10  nJpsi        1.24211e+00   8.31261e-01   1.31423e-02   8.80017e-03\n",
      "  11  sigmaJpsi    3.28180e-02   3.02636e-03  -3.52494e-04  -1.79608e-03\n",
      "                               ERR DEF= 0.5\n",
      " EXTERNAL ERROR MATRIX.    NDIM=  25    NPAR= 11    ERR DEF=0.5\n",
      "  4.267e+02 \n",
      " -3.166e+02  7.251e+02 \n",
      "  7.648e-01 -8.540e-01  1.267e-02 \n",
      " -3.797e-01  4.548e-01 -3.483e-03  7.781e-03 \n",
      " -1.822e-01  2.852e-01  4.954e-03 -2.528e-03  7.009e-03 \n",
      "  1.132e+00 -1.429e+00  7.474e-03 -6.735e-03  3.875e-03  1.241e-01 \n",
      "  5.471e+01 -8.641e+01  8.022e-02  1.468e-01 -1.498e-01  1.569e-01  1.174e+02 \n",
      "  1.524e-03 -1.733e-03  5.875e-06  3.009e-06 -3.550e-06 -4.408e-06 -2.142e-06  1.080e-05 \n",
      " -3.170e-03  3.472e-03 -2.417e-05  5.993e-05 -3.587e-06 -8.490e-04  1.558e-03  2.501e-07  8.688e-04 \n",
      " -1.048e+01  1.238e+01 -4.136e-02  2.831e-02 -6.677e-03 -2.311e-01 -2.137e+00 -5.092e-05  1.223e-03  7.571e-01 \n",
      " -1.291e-02  1.627e-02 -1.437e-05 -8.059e-06  4.062e-05  3.999e-05 -2.074e-03  1.591e-07 -1.038e-06  1.258e-04  9.160e-06 \n",
      " PARAMETER  CORRELATION COEFFICIENTS  \n",
      "       NO.  GLOBAL      1      2      3      4      5      6      7      8      9     10     11\n",
      "        1  0.75242   1.000 -0.569  0.329 -0.208 -0.105  0.156  0.244  0.022 -0.005 -0.583 -0.207\n",
      "        2  0.68897  -0.569  1.000 -0.282  0.191  0.127 -0.151 -0.296 -0.020  0.004  0.528  0.200\n",
      "        3  0.70227   0.329 -0.282  1.000 -0.351  0.526  0.189  0.066  0.016 -0.007 -0.422 -0.042\n",
      "        4  0.54391  -0.208  0.191 -0.351  1.000 -0.342 -0.217  0.154  0.010  0.023  0.369 -0.030\n",
      "        5  0.66909  -0.105  0.127  0.526 -0.342  1.000  0.131 -0.165 -0.013 -0.001 -0.092  0.160\n",
      "        6  0.86112   0.156 -0.151  0.189 -0.217  0.131  1.000  0.041 -0.004 -0.082 -0.754  0.038\n",
      "        7  0.43035   0.244 -0.296  0.066  0.154 -0.165  0.041  1.000 -0.000  0.005 -0.227 -0.063\n",
      "        8  0.05038   0.022 -0.020  0.016  0.010 -0.013 -0.004 -0.000  1.000  0.003 -0.018  0.016\n",
      "        9  0.08825  -0.005  0.004 -0.007  0.023 -0.001 -0.082  0.005  0.003  1.000  0.048 -0.012\n",
      "       10  0.92539  -0.583  0.528 -0.422  0.369 -0.092 -0.754 -0.227 -0.018  0.048  1.000  0.048\n",
      "       11  0.29787  -0.207  0.200 -0.042 -0.030  0.160  0.038 -0.063  0.016 -0.012  0.048  1.000\n",
      " **********\n",
      " **    7 **SET ERR         0.5\n",
      " **********\n",
      " **********\n",
      " **    8 **SET PRINT           1\n",
      " **********\n",
      " **********\n",
      " **    9 **HESSE        5500\n",
      " **********\n",
      " COVARIANCE MATRIX CALCULATED SUCCESSFULLY\n",
      " FCN=-2191.54 FROM HESSE     STATUS=OK            108 CALLS         863 TOTAL\n",
      "                     EDM=0.000108265    STRATEGY= 1      ERROR MATRIX ACCURATE \n",
      "  EXT PARAMETER                                INTERNAL      INTERNAL  \n",
      "  NO.   NAME      VALUE            ERROR       STEP SIZE       VALUE   \n",
      "   1  NJpsi        1.57496e+02   1.99871e+01   3.60701e-04  -1.31922e+00\n",
      "   2  Nbkg         3.36845e+02   2.54538e+01   1.52731e-04  -1.40648e+00\n",
      "   3  a1          -6.87501e-01   1.09097e-01   1.39379e-03  -3.50908e-01\n",
      "   4  a2           2.89156e-01   8.61332e-02   1.24167e-03   1.45086e-01\n",
      "   5  a3           1.22959e-02   8.44737e-02   1.00681e-03   6.14799e-03\n",
      "   6  alphaJpsi    1.67252e+00   3.23680e-01   1.36205e-03   3.41079e-01\n",
      "   7  cross_psi    1.19278e+01   9.73533e+00   1.63327e-02  -4.15458e-01\n",
      "   8  meanJpsi     3.09353e+00   3.30101e-03   6.01556e-04   4.86653e-01\n",
      "   9  meanpsi2S    3.69287e+00   2.46293e-02   1.68906e-02  -2.99841e+00\n",
      "  10  nJpsi        1.24211e+00   8.16637e-01   7.59102e-03  -7.34443e-01\n",
      "  11  sigmaJpsi    3.28180e-02   2.99499e-03   5.24547e-04  -1.93458e+00\n",
      "                               ERR DEF= 0.5\n",
      " EXTERNAL ERROR MATRIX.    NDIM=  25    NPAR= 11    ERR DEF=0.5\n",
      "  3.995e+02 \n",
      " -2.673e+02  6.479e+02 \n",
      "  5.685e-01 -6.012e-01  1.192e-02 \n",
      " -1.991e-01  1.399e-01 -2.770e-03  7.424e-03 \n",
      " -2.180e-01  3.009e-01  4.894e-03 -2.691e-03  7.140e-03 \n",
      "  4.468e-01 -4.924e-01  4.484e-03 -4.023e-03  3.493e-03  1.049e-01 \n",
      "  5.346e+01 -9.190e+01  7.040e-02  1.223e-01 -1.729e-01  9.922e-02  1.054e+02 \n",
      "  3.620e-03 -4.062e-03  6.447e-06  2.699e-07 -5.221e-06  4.754e-06  9.345e-04  1.090e-05 \n",
      "  1.244e-02 -1.543e-02  1.963e-05 -5.942e-06 -3.654e-05 -3.605e-04  6.310e-03  2.063e-07  6.646e-04 \n",
      " -9.554e+00  1.061e+01 -3.216e-02  1.831e-02 -2.085e-03 -1.833e-01 -2.250e+00 -1.651e-04  2.889e-05  7.281e-01 \n",
      " -7.303e-03  8.219e-03  5.590e-06 -2.041e-05  3.160e-05  8.005e-05 -1.913e-03  5.178e-08 -7.767e-07 -1.785e-04  8.971e-06 \n",
      " PARAMETER  CORRELATION COEFFICIENTS  \n",
      "       NO.  GLOBAL      1      2      3      4      5      6      7      8      9     10     11\n",
      "        1  0.71954   1.000 -0.525  0.261 -0.116 -0.129  0.069  0.261  0.055  0.024 -0.560 -0.122\n",
      "        2  0.65125  -0.525  1.000 -0.216  0.064  0.140 -0.060 -0.352 -0.048 -0.024  0.489  0.108\n",
      "        3  0.67084   0.261 -0.216  1.000 -0.295  0.531  0.127  0.063  0.018  0.007 -0.345  0.017\n",
      "        4  0.47272  -0.116  0.064 -0.295  1.000 -0.370 -0.144  0.138  0.001 -0.003  0.249 -0.079\n",
      "        5  0.67564  -0.129  0.140  0.531 -0.370  1.000  0.128 -0.199 -0.019 -0.017 -0.029  0.125\n",
      "        6  0.79389   0.069 -0.060  0.127 -0.144  0.128  1.000  0.030  0.004 -0.043 -0.663  0.083\n",
      "        7  0.43726   0.261 -0.352  0.063  0.138 -0.199  0.030  1.000  0.028  0.024 -0.257 -0.062\n",
      "        8  0.07723   0.055 -0.048  0.018  0.001 -0.019  0.004  0.028  1.000  0.002 -0.059  0.005\n",
      "        9  0.05954   0.024 -0.024  0.007 -0.003 -0.017 -0.043  0.024  0.002  1.000  0.001 -0.010\n",
      "       10  0.88659  -0.560  0.489 -0.345  0.249 -0.029 -0.663 -0.257 -0.059  0.001  1.000 -0.070\n",
      "       11  0.26653  -0.122  0.108  0.017 -0.079  0.125  0.083 -0.062  0.005 -0.010 -0.070  1.000\n",
      "[#1] INFO:Minization -- RooMinimizer::optimizeConst: deactivating const optimization\n"
     ]
    }
   ],
   "source": [
    "totPDF.fitTo(dataset, ROOT.RooFit.Extended(1))"
   ]
  },
  {
   "cell_type": "markdown",
   "metadata": {},
   "source": [
    "rint values of the parameters (that now reflect fitted values and errors)"
   ]
  },
  {
   "cell_type": "code",
   "execution_count": 14,
   "metadata": {},
   "outputs": [
    {
     "name": "stdout",
     "output_type": "stream",
     "text": [
      "##############\n",
      "##############\n",
      "RooRealVar::meanpsi2S = 3.69287 +/- 0.0246293  L(3.65 - 3.75) \n",
      "RooRealVar::NJpsi = 157.496 +/- 19.9871  L(0.1 - 10000) \n",
      "RooFormulaVar::Npsi[ actualVars=(eff_psi,lumi_psi,cross_psi) formula=\"x[0]*x[1]*x[2]\" ] = 5.72535\n"
     ]
    }
   ],
   "source": [
    "print (\"##############\")\n",
    "meanpsi2S.Print()\n",
    "NJpsi.Print()\n",
    "Npsi.Print()\n",
    "print (\"##############\")"
   ]
  },
  {
   "cell_type": "markdown",
   "metadata": {},
   "source": [
    "ow plot the data and the fit result"
   ]
  },
  {
   "cell_type": "code",
   "execution_count": 15,
   "metadata": {},
   "outputs": [
    {
     "data": {
      "text/plain": [
       "<ROOT.RooPlot object (\"frame_mass_7fedd83b92b0\") at 0x7fedd83b92b0>"
      ]
     },
     "execution_count": 15,
     "metadata": {},
     "output_type": "execute_result"
    }
   ],
   "source": [
    "xframe = mass.frame()\n",
    "dataset.plotOn(xframe)\n",
    "totPDF.plotOn(xframe)"
   ]
  },
  {
   "cell_type": "markdown",
   "metadata": {},
   "source": [
    "ne can also plot the single components of the total PDF, like the background component"
   ]
  },
  {
   "cell_type": "code",
   "execution_count": 16,
   "metadata": {},
   "outputs": [
    {
     "data": {
      "text/plain": [
       "<ROOT.RooPlot object (\"frame_mass_7fedd83b92b0\") at 0x7fedd83b92b0>"
      ]
     },
     "execution_count": 16,
     "metadata": {},
     "output_type": "execute_result"
    },
    {
     "name": "stdout",
     "output_type": "stream",
     "text": [
      "[#1] INFO:Plotting -- RooAbsPdf::plotOn(totPDF) directly selected PDF components: (backgroundPDF)\n",
      "[#1] INFO:Plotting -- RooAbsPdf::plotOn(totPDF) indirectly selected PDF components: ()\n"
     ]
    }
   ],
   "source": [
    "totPDF.plotOn(xframe, ROOT.RooFit.Components(\"backgroundPDF\"), ROOT.RooFit.LineStyle(ROOT.kDashed), ROOT.RooFit.LineColor(ROOT.kRed))"
   ]
  },
  {
   "cell_type": "markdown",
   "metadata": {},
   "source": [
    "raw the results"
   ]
  },
  {
   "cell_type": "code",
   "execution_count": 17,
   "metadata": {},
   "outputs": [
    {
     "data": {
      "image/png": "[encoded data removed]",
      "text/plain": [
       "<IPython.core.display.Image object>"
      ]
     },
     "metadata": {},
     "output_type": "display_data"
    }
   ],
   "source": [
    "c1 = ROOT.TCanvas()\n",
    "xframe.Draw()\n",
    "#c1.SaveAs(\"exercise_0.png\")\n",
    "c1.Draw()"
   ]
  },
  {
   "cell_type": "markdown",
   "metadata": {},
   "source": [
    "ow save the data and the PDF into a Workspace, for later use for statistical analysis"
   ]
  },
  {
   "cell_type": "code",
   "execution_count": null,
   "metadata": {},
   "outputs": [],
   "source": [
    "ws = ROOT.RooWorkspace(\"ws\")\n",
    "getattr(ws,'import')(dataset)\n",
    "getattr(ws,'import')(totPDF)"
   ]
  },
  {
   "cell_type": "code",
   "execution_count": null,
   "metadata": {},
   "outputs": [],
   "source": [
    "fOutput = ROOT.TFile(\"Workspace_mumufit.root\",\"RECREATE\")\n",
    "ws.Write()\n",
    "fOutput.Write()\n",
    "fOutput.Close()"
   ]
  },
  {
   "cell_type": "code",
   "execution_count": null,
   "metadata": {},
   "outputs": [],
   "source": []
  }
 ],
 "metadata": {
  "kernelspec": {
   "display_name": "Python 3",
   "language": "python",
   "name": "python3"
  },
  "language_info": {
   "codemirror_mode": {
    "name": "ipython",
    "version": 3
   },
   "file_extension": ".py",
   "mimetype": "text/x-python",
   "name": "python",
   "nbconvert_exporter": "python",
   "pygments_lexer": "ipython3",
   "version": "3.8.2"
  }
 },
 "nbformat": 4,
 "nbformat_minor": 2
}
